{
 "cells": [
  {
   "cell_type": "markdown",
   "metadata": {},
   "source": [
    "# Predictive Analytics for Retail Banking"
   ]
  },
  {
   "cell_type": "markdown",
   "metadata": {},
   "source": [
    "Analytics is helping the banking industry become smarter in managing the myriad challenges.\n",
    "\n",
    "Challenges:\n",
    "- What is a suitable product to recommend to a customer?\n",
    "- What is the best time to market the product?\n",
    "- Which is the most effective channel to contact a customer?\n",
    "\n",
    "The data is related with direct marketing campaigns of a banking institution. The marketing campaigns were based on phone alls. Often, more than one contact to the same client was required, in order to access if the product (bank term deposit) would be ('yes') or not ('no') subscribed.\n",
    "The goal is to predict if the client will subscribe a term deposit"
   ]
  },
  {
   "cell_type": "code",
   "execution_count": 1,
   "metadata": {},
   "outputs": [],
   "source": [
    "# Import all required libraries for reading data, analysing and visualizing data\n",
    "\n",
    "import numpy as np\n",
    "import pandas as pd"
   ]
  },
  {
   "cell_type": "code",
   "execution_count": 2,
   "metadata": {},
   "outputs": [],
   "source": [
    "# Read the training & test data\n",
    "data = pd.read_csv(\"bank97.csv\")"
   ]
  },
  {
   "cell_type": "code",
   "execution_count": 3,
   "metadata": {},
   "outputs": [
    {
     "data": {
      "text/html": [
       "<div>\n",
       "<style scoped>\n",
       "    .dataframe tbody tr th:only-of-type {\n",
       "        vertical-align: middle;\n",
       "    }\n",
       "\n",
       "    .dataframe tbody tr th {\n",
       "        vertical-align: top;\n",
       "    }\n",
       "\n",
       "    .dataframe thead th {\n",
       "        text-align: right;\n",
       "    }\n",
       "</style>\n",
       "<table border=\"1\" class=\"dataframe\">\n",
       "  <thead>\n",
       "    <tr style=\"text-align: right;\">\n",
       "      <th></th>\n",
       "      <th>age</th>\n",
       "      <th>job</th>\n",
       "      <th>marital</th>\n",
       "      <th>education</th>\n",
       "      <th>default</th>\n",
       "      <th>balance</th>\n",
       "      <th>housing</th>\n",
       "      <th>loan</th>\n",
       "      <th>contact</th>\n",
       "      <th>day</th>\n",
       "      <th>month</th>\n",
       "      <th>duration</th>\n",
       "      <th>campaign</th>\n",
       "      <th>pdays</th>\n",
       "      <th>previous</th>\n",
       "      <th>poutcome</th>\n",
       "      <th>deposit</th>\n",
       "    </tr>\n",
       "  </thead>\n",
       "  <tbody>\n",
       "    <tr>\n",
       "      <th>0</th>\n",
       "      <td>39</td>\n",
       "      <td>blue-collar</td>\n",
       "      <td>married</td>\n",
       "      <td>primary</td>\n",
       "      <td>no</td>\n",
       "      <td>-119</td>\n",
       "      <td>no</td>\n",
       "      <td>no</td>\n",
       "      <td>unknown</td>\n",
       "      <td>17</td>\n",
       "      <td>jun</td>\n",
       "      <td>135</td>\n",
       "      <td>6</td>\n",
       "      <td>-1</td>\n",
       "      <td>0</td>\n",
       "      <td>unknown</td>\n",
       "      <td>no</td>\n",
       "    </tr>\n",
       "    <tr>\n",
       "      <th>1</th>\n",
       "      <td>31</td>\n",
       "      <td>technician</td>\n",
       "      <td>single</td>\n",
       "      <td>secondary</td>\n",
       "      <td>no</td>\n",
       "      <td>373</td>\n",
       "      <td>no</td>\n",
       "      <td>no</td>\n",
       "      <td>cellular</td>\n",
       "      <td>22</td>\n",
       "      <td>aug</td>\n",
       "      <td>346</td>\n",
       "      <td>5</td>\n",
       "      <td>-1</td>\n",
       "      <td>0</td>\n",
       "      <td>unknown</td>\n",
       "      <td>no</td>\n",
       "    </tr>\n",
       "    <tr>\n",
       "      <th>2</th>\n",
       "      <td>30</td>\n",
       "      <td>services</td>\n",
       "      <td>married</td>\n",
       "      <td>secondary</td>\n",
       "      <td>no</td>\n",
       "      <td>292</td>\n",
       "      <td>yes</td>\n",
       "      <td>yes</td>\n",
       "      <td>cellular</td>\n",
       "      <td>15</td>\n",
       "      <td>apr</td>\n",
       "      <td>651</td>\n",
       "      <td>4</td>\n",
       "      <td>-1</td>\n",
       "      <td>0</td>\n",
       "      <td>unknown</td>\n",
       "      <td>no</td>\n",
       "    </tr>\n",
       "    <tr>\n",
       "      <th>3</th>\n",
       "      <td>55</td>\n",
       "      <td>technician</td>\n",
       "      <td>divorced</td>\n",
       "      <td>secondary</td>\n",
       "      <td>yes</td>\n",
       "      <td>284</td>\n",
       "      <td>yes</td>\n",
       "      <td>no</td>\n",
       "      <td>cellular</td>\n",
       "      <td>7</td>\n",
       "      <td>aug</td>\n",
       "      <td>78</td>\n",
       "      <td>2</td>\n",
       "      <td>-1</td>\n",
       "      <td>0</td>\n",
       "      <td>unknown</td>\n",
       "      <td>no</td>\n",
       "    </tr>\n",
       "    <tr>\n",
       "      <th>4</th>\n",
       "      <td>32</td>\n",
       "      <td>management</td>\n",
       "      <td>single</td>\n",
       "      <td>tertiary</td>\n",
       "      <td>no</td>\n",
       "      <td>311</td>\n",
       "      <td>no</td>\n",
       "      <td>no</td>\n",
       "      <td>unknown</td>\n",
       "      <td>12</td>\n",
       "      <td>may</td>\n",
       "      <td>757</td>\n",
       "      <td>2</td>\n",
       "      <td>-1</td>\n",
       "      <td>0</td>\n",
       "      <td>unknown</td>\n",
       "      <td>yes</td>\n",
       "    </tr>\n",
       "  </tbody>\n",
       "</table>\n",
       "</div>"
      ],
      "text/plain": [
       "   age          job   marital  education default  balance housing loan  \\\n",
       "0   39  blue-collar   married    primary      no     -119      no   no   \n",
       "1   31   technician    single  secondary      no      373      no   no   \n",
       "2   30     services   married  secondary      no      292     yes  yes   \n",
       "3   55   technician  divorced  secondary     yes      284     yes   no   \n",
       "4   32   management    single   tertiary      no      311      no   no   \n",
       "\n",
       "    contact  day month  duration  campaign  pdays  previous poutcome deposit  \n",
       "0   unknown   17   jun       135         6     -1         0  unknown      no  \n",
       "1  cellular   22   aug       346         5     -1         0  unknown      no  \n",
       "2  cellular   15   apr       651         4     -1         0  unknown      no  \n",
       "3  cellular    7   aug        78         2     -1         0  unknown      no  \n",
       "4   unknown   12   may       757         2     -1         0  unknown     yes  "
      ]
     },
     "execution_count": 3,
     "metadata": {},
     "output_type": "execute_result"
    }
   ],
   "source": [
    "# Top 5 rows of the dataset\n",
    "\n",
    "data.head()"
   ]
  },
  {
   "cell_type": "code",
   "execution_count": 4,
   "metadata": {},
   "outputs": [],
   "source": [
    "data['default'].replace(['yes','no'],[1,0],inplace=True)\n",
    "data['housing'].replace(['yes','no'],[1,0],inplace=True)\n",
    "data['loan'].replace(['yes','no'],[1,0],inplace=True)\n",
    "data['deposit'].replace(['yes','no'],[1,0],inplace=True)"
   ]
  },
  {
   "cell_type": "code",
   "execution_count": 5,
   "metadata": {},
   "outputs": [
    {
     "data": {
      "text/plain": [
       "array(['jun', 'aug', 'apr', 'may', 'jul', 'mar', 'oct', 'jan', 'nov',\n",
       "       'sep', 'feb', 'dec'], dtype=object)"
      ]
     },
     "execution_count": 5,
     "metadata": {},
     "output_type": "execute_result"
    }
   ],
   "source": [
    "data[\"month\"].unique()"
   ]
  },
  {
   "cell_type": "code",
   "execution_count": 6,
   "metadata": {},
   "outputs": [
    {
     "data": {
      "text/html": [
       "<div>\n",
       "<style scoped>\n",
       "    .dataframe tbody tr th:only-of-type {\n",
       "        vertical-align: middle;\n",
       "    }\n",
       "\n",
       "    .dataframe tbody tr th {\n",
       "        vertical-align: top;\n",
       "    }\n",
       "\n",
       "    .dataframe thead th {\n",
       "        text-align: right;\n",
       "    }\n",
       "</style>\n",
       "<table border=\"1\" class=\"dataframe\">\n",
       "  <thead>\n",
       "    <tr style=\"text-align: right;\">\n",
       "      <th></th>\n",
       "      <th>age</th>\n",
       "      <th>job</th>\n",
       "      <th>marital</th>\n",
       "      <th>education</th>\n",
       "      <th>default</th>\n",
       "      <th>balance</th>\n",
       "      <th>housing</th>\n",
       "      <th>loan</th>\n",
       "      <th>contact</th>\n",
       "      <th>day</th>\n",
       "      <th>month</th>\n",
       "      <th>duration</th>\n",
       "      <th>campaign</th>\n",
       "      <th>pdays</th>\n",
       "      <th>previous</th>\n",
       "      <th>poutcome</th>\n",
       "      <th>deposit</th>\n",
       "    </tr>\n",
       "  </thead>\n",
       "  <tbody>\n",
       "    <tr>\n",
       "      <th>0</th>\n",
       "      <td>39</td>\n",
       "      <td>blue-collar</td>\n",
       "      <td>married</td>\n",
       "      <td>primary</td>\n",
       "      <td>0</td>\n",
       "      <td>-119</td>\n",
       "      <td>0</td>\n",
       "      <td>0</td>\n",
       "      <td>unknown</td>\n",
       "      <td>17</td>\n",
       "      <td>jun</td>\n",
       "      <td>135</td>\n",
       "      <td>6</td>\n",
       "      <td>-1</td>\n",
       "      <td>0</td>\n",
       "      <td>unknown</td>\n",
       "      <td>0</td>\n",
       "    </tr>\n",
       "    <tr>\n",
       "      <th>1</th>\n",
       "      <td>31</td>\n",
       "      <td>technician</td>\n",
       "      <td>single</td>\n",
       "      <td>secondary</td>\n",
       "      <td>0</td>\n",
       "      <td>373</td>\n",
       "      <td>0</td>\n",
       "      <td>0</td>\n",
       "      <td>cellular</td>\n",
       "      <td>22</td>\n",
       "      <td>aug</td>\n",
       "      <td>346</td>\n",
       "      <td>5</td>\n",
       "      <td>-1</td>\n",
       "      <td>0</td>\n",
       "      <td>unknown</td>\n",
       "      <td>0</td>\n",
       "    </tr>\n",
       "    <tr>\n",
       "      <th>2</th>\n",
       "      <td>30</td>\n",
       "      <td>services</td>\n",
       "      <td>married</td>\n",
       "      <td>secondary</td>\n",
       "      <td>0</td>\n",
       "      <td>292</td>\n",
       "      <td>1</td>\n",
       "      <td>1</td>\n",
       "      <td>cellular</td>\n",
       "      <td>15</td>\n",
       "      <td>apr</td>\n",
       "      <td>651</td>\n",
       "      <td>4</td>\n",
       "      <td>-1</td>\n",
       "      <td>0</td>\n",
       "      <td>unknown</td>\n",
       "      <td>0</td>\n",
       "    </tr>\n",
       "    <tr>\n",
       "      <th>3</th>\n",
       "      <td>55</td>\n",
       "      <td>technician</td>\n",
       "      <td>divorced</td>\n",
       "      <td>secondary</td>\n",
       "      <td>1</td>\n",
       "      <td>284</td>\n",
       "      <td>1</td>\n",
       "      <td>0</td>\n",
       "      <td>cellular</td>\n",
       "      <td>7</td>\n",
       "      <td>aug</td>\n",
       "      <td>78</td>\n",
       "      <td>2</td>\n",
       "      <td>-1</td>\n",
       "      <td>0</td>\n",
       "      <td>unknown</td>\n",
       "      <td>0</td>\n",
       "    </tr>\n",
       "    <tr>\n",
       "      <th>4</th>\n",
       "      <td>32</td>\n",
       "      <td>management</td>\n",
       "      <td>single</td>\n",
       "      <td>tertiary</td>\n",
       "      <td>0</td>\n",
       "      <td>311</td>\n",
       "      <td>0</td>\n",
       "      <td>0</td>\n",
       "      <td>unknown</td>\n",
       "      <td>12</td>\n",
       "      <td>may</td>\n",
       "      <td>757</td>\n",
       "      <td>2</td>\n",
       "      <td>-1</td>\n",
       "      <td>0</td>\n",
       "      <td>unknown</td>\n",
       "      <td>1</td>\n",
       "    </tr>\n",
       "  </tbody>\n",
       "</table>\n",
       "</div>"
      ],
      "text/plain": [
       "   age          job   marital  education  default  balance  housing  loan  \\\n",
       "0   39  blue-collar   married    primary        0     -119        0     0   \n",
       "1   31   technician    single  secondary        0      373        0     0   \n",
       "2   30     services   married  secondary        0      292        1     1   \n",
       "3   55   technician  divorced  secondary        1      284        1     0   \n",
       "4   32   management    single   tertiary        0      311        0     0   \n",
       "\n",
       "    contact  day month  duration  campaign  pdays  previous poutcome  deposit  \n",
       "0   unknown   17   jun       135         6     -1         0  unknown        0  \n",
       "1  cellular   22   aug       346         5     -1         0  unknown        0  \n",
       "2  cellular   15   apr       651         4     -1         0  unknown        0  \n",
       "3  cellular    7   aug        78         2     -1         0  unknown        0  \n",
       "4   unknown   12   may       757         2     -1         0  unknown        1  "
      ]
     },
     "execution_count": 6,
     "metadata": {},
     "output_type": "execute_result"
    }
   ],
   "source": [
    "data.head()"
   ]
  },
  {
   "cell_type": "code",
   "execution_count": 7,
   "metadata": {},
   "outputs": [],
   "source": [
    "data=data.rename(columns={'default':'defaulter','previous':'prev'})"
   ]
  },
  {
   "cell_type": "code",
   "execution_count": 8,
   "metadata": {},
   "outputs": [
    {
     "data": {
      "text/plain": [
       "array(['blue-collar', 'technician', 'services', 'management', 'admin.',\n",
       "       'entrepreneur', 'unemployed', 'self-employed', 'retired',\n",
       "       'housemaid', 'student', 'unknown'], dtype=object)"
      ]
     },
     "execution_count": 8,
     "metadata": {},
     "output_type": "execute_result"
    }
   ],
   "source": [
    "data[\"job\"].unique()"
   ]
  },
  {
   "cell_type": "code",
   "execution_count": 9,
   "metadata": {},
   "outputs": [
    {
     "data": {
      "text/html": [
       "<div>\n",
       "<style scoped>\n",
       "    .dataframe tbody tr th:only-of-type {\n",
       "        vertical-align: middle;\n",
       "    }\n",
       "\n",
       "    .dataframe tbody tr th {\n",
       "        vertical-align: top;\n",
       "    }\n",
       "\n",
       "    .dataframe thead th {\n",
       "        text-align: right;\n",
       "    }\n",
       "</style>\n",
       "<table border=\"1\" class=\"dataframe\">\n",
       "  <thead>\n",
       "    <tr style=\"text-align: right;\">\n",
       "      <th></th>\n",
       "      <th>age</th>\n",
       "      <th>job</th>\n",
       "      <th>marital</th>\n",
       "      <th>education</th>\n",
       "      <th>defaulter</th>\n",
       "      <th>balance</th>\n",
       "      <th>housing</th>\n",
       "      <th>loan</th>\n",
       "      <th>contact</th>\n",
       "      <th>day</th>\n",
       "      <th>month</th>\n",
       "      <th>duration</th>\n",
       "      <th>campaign</th>\n",
       "      <th>pdays</th>\n",
       "      <th>prev</th>\n",
       "      <th>poutcome</th>\n",
       "      <th>deposit</th>\n",
       "    </tr>\n",
       "  </thead>\n",
       "  <tbody>\n",
       "    <tr>\n",
       "      <th>0</th>\n",
       "      <td>39</td>\n",
       "      <td>blue-collar</td>\n",
       "      <td>married</td>\n",
       "      <td>primary</td>\n",
       "      <td>0</td>\n",
       "      <td>-119</td>\n",
       "      <td>0</td>\n",
       "      <td>0</td>\n",
       "      <td>unknown</td>\n",
       "      <td>17</td>\n",
       "      <td>jun</td>\n",
       "      <td>135</td>\n",
       "      <td>6</td>\n",
       "      <td>-1</td>\n",
       "      <td>0</td>\n",
       "      <td>unknown</td>\n",
       "      <td>0</td>\n",
       "    </tr>\n",
       "    <tr>\n",
       "      <th>1</th>\n",
       "      <td>31</td>\n",
       "      <td>technician</td>\n",
       "      <td>single</td>\n",
       "      <td>secondary</td>\n",
       "      <td>0</td>\n",
       "      <td>373</td>\n",
       "      <td>0</td>\n",
       "      <td>0</td>\n",
       "      <td>cellular</td>\n",
       "      <td>22</td>\n",
       "      <td>aug</td>\n",
       "      <td>346</td>\n",
       "      <td>5</td>\n",
       "      <td>-1</td>\n",
       "      <td>0</td>\n",
       "      <td>unknown</td>\n",
       "      <td>0</td>\n",
       "    </tr>\n",
       "    <tr>\n",
       "      <th>2</th>\n",
       "      <td>30</td>\n",
       "      <td>services</td>\n",
       "      <td>married</td>\n",
       "      <td>secondary</td>\n",
       "      <td>0</td>\n",
       "      <td>292</td>\n",
       "      <td>1</td>\n",
       "      <td>1</td>\n",
       "      <td>cellular</td>\n",
       "      <td>15</td>\n",
       "      <td>apr</td>\n",
       "      <td>651</td>\n",
       "      <td>4</td>\n",
       "      <td>-1</td>\n",
       "      <td>0</td>\n",
       "      <td>unknown</td>\n",
       "      <td>0</td>\n",
       "    </tr>\n",
       "    <tr>\n",
       "      <th>3</th>\n",
       "      <td>55</td>\n",
       "      <td>technician</td>\n",
       "      <td>divorced</td>\n",
       "      <td>secondary</td>\n",
       "      <td>1</td>\n",
       "      <td>284</td>\n",
       "      <td>1</td>\n",
       "      <td>0</td>\n",
       "      <td>cellular</td>\n",
       "      <td>7</td>\n",
       "      <td>aug</td>\n",
       "      <td>78</td>\n",
       "      <td>2</td>\n",
       "      <td>-1</td>\n",
       "      <td>0</td>\n",
       "      <td>unknown</td>\n",
       "      <td>0</td>\n",
       "    </tr>\n",
       "    <tr>\n",
       "      <th>4</th>\n",
       "      <td>32</td>\n",
       "      <td>management</td>\n",
       "      <td>single</td>\n",
       "      <td>tertiary</td>\n",
       "      <td>0</td>\n",
       "      <td>311</td>\n",
       "      <td>0</td>\n",
       "      <td>0</td>\n",
       "      <td>unknown</td>\n",
       "      <td>12</td>\n",
       "      <td>may</td>\n",
       "      <td>757</td>\n",
       "      <td>2</td>\n",
       "      <td>-1</td>\n",
       "      <td>0</td>\n",
       "      <td>unknown</td>\n",
       "      <td>1</td>\n",
       "    </tr>\n",
       "    <tr>\n",
       "      <th>...</th>\n",
       "      <td>...</td>\n",
       "      <td>...</td>\n",
       "      <td>...</td>\n",
       "      <td>...</td>\n",
       "      <td>...</td>\n",
       "      <td>...</td>\n",
       "      <td>...</td>\n",
       "      <td>...</td>\n",
       "      <td>...</td>\n",
       "      <td>...</td>\n",
       "      <td>...</td>\n",
       "      <td>...</td>\n",
       "      <td>...</td>\n",
       "      <td>...</td>\n",
       "      <td>...</td>\n",
       "      <td>...</td>\n",
       "      <td>...</td>\n",
       "    </tr>\n",
       "    <tr>\n",
       "      <th>10822</th>\n",
       "      <td>47</td>\n",
       "      <td>management</td>\n",
       "      <td>married</td>\n",
       "      <td>tertiary</td>\n",
       "      <td>0</td>\n",
       "      <td>761</td>\n",
       "      <td>1</td>\n",
       "      <td>0</td>\n",
       "      <td>cellular</td>\n",
       "      <td>11</td>\n",
       "      <td>jul</td>\n",
       "      <td>80</td>\n",
       "      <td>2</td>\n",
       "      <td>-1</td>\n",
       "      <td>0</td>\n",
       "      <td>unknown</td>\n",
       "      <td>0</td>\n",
       "    </tr>\n",
       "    <tr>\n",
       "      <th>10823</th>\n",
       "      <td>28</td>\n",
       "      <td>self-employed</td>\n",
       "      <td>single</td>\n",
       "      <td>tertiary</td>\n",
       "      <td>0</td>\n",
       "      <td>159</td>\n",
       "      <td>0</td>\n",
       "      <td>0</td>\n",
       "      <td>cellular</td>\n",
       "      <td>16</td>\n",
       "      <td>nov</td>\n",
       "      <td>449</td>\n",
       "      <td>2</td>\n",
       "      <td>33</td>\n",
       "      <td>4</td>\n",
       "      <td>success</td>\n",
       "      <td>1</td>\n",
       "    </tr>\n",
       "    <tr>\n",
       "      <th>10824</th>\n",
       "      <td>35</td>\n",
       "      <td>technician</td>\n",
       "      <td>married</td>\n",
       "      <td>secondary</td>\n",
       "      <td>0</td>\n",
       "      <td>1144</td>\n",
       "      <td>0</td>\n",
       "      <td>0</td>\n",
       "      <td>cellular</td>\n",
       "      <td>20</td>\n",
       "      <td>aug</td>\n",
       "      <td>197</td>\n",
       "      <td>13</td>\n",
       "      <td>-1</td>\n",
       "      <td>0</td>\n",
       "      <td>unknown</td>\n",
       "      <td>0</td>\n",
       "    </tr>\n",
       "    <tr>\n",
       "      <th>10825</th>\n",
       "      <td>51</td>\n",
       "      <td>retired</td>\n",
       "      <td>married</td>\n",
       "      <td>tertiary</td>\n",
       "      <td>0</td>\n",
       "      <td>746</td>\n",
       "      <td>0</td>\n",
       "      <td>0</td>\n",
       "      <td>cellular</td>\n",
       "      <td>25</td>\n",
       "      <td>aug</td>\n",
       "      <td>372</td>\n",
       "      <td>5</td>\n",
       "      <td>-1</td>\n",
       "      <td>0</td>\n",
       "      <td>unknown</td>\n",
       "      <td>1</td>\n",
       "    </tr>\n",
       "    <tr>\n",
       "      <th>10826</th>\n",
       "      <td>30</td>\n",
       "      <td>management</td>\n",
       "      <td>single</td>\n",
       "      <td>tertiary</td>\n",
       "      <td>0</td>\n",
       "      <td>2</td>\n",
       "      <td>0</td>\n",
       "      <td>0</td>\n",
       "      <td>cellular</td>\n",
       "      <td>23</td>\n",
       "      <td>mar</td>\n",
       "      <td>269</td>\n",
       "      <td>1</td>\n",
       "      <td>-1</td>\n",
       "      <td>0</td>\n",
       "      <td>unknown</td>\n",
       "      <td>0</td>\n",
       "    </tr>\n",
       "  </tbody>\n",
       "</table>\n",
       "<p>10827 rows × 17 columns</p>\n",
       "</div>"
      ],
      "text/plain": [
       "       age            job   marital  education  defaulter  balance  housing  \\\n",
       "0       39    blue-collar   married    primary          0     -119        0   \n",
       "1       31     technician    single  secondary          0      373        0   \n",
       "2       30       services   married  secondary          0      292        1   \n",
       "3       55     technician  divorced  secondary          1      284        1   \n",
       "4       32     management    single   tertiary          0      311        0   \n",
       "...    ...            ...       ...        ...        ...      ...      ...   \n",
       "10822   47     management   married   tertiary          0      761        1   \n",
       "10823   28  self-employed    single   tertiary          0      159        0   \n",
       "10824   35     technician   married  secondary          0     1144        0   \n",
       "10825   51        retired   married   tertiary          0      746        0   \n",
       "10826   30     management    single   tertiary          0        2        0   \n",
       "\n",
       "       loan   contact  day month  duration  campaign  pdays  prev poutcome  \\\n",
       "0         0   unknown   17   jun       135         6     -1     0  unknown   \n",
       "1         0  cellular   22   aug       346         5     -1     0  unknown   \n",
       "2         1  cellular   15   apr       651         4     -1     0  unknown   \n",
       "3         0  cellular    7   aug        78         2     -1     0  unknown   \n",
       "4         0   unknown   12   may       757         2     -1     0  unknown   \n",
       "...     ...       ...  ...   ...       ...       ...    ...   ...      ...   \n",
       "10822     0  cellular   11   jul        80         2     -1     0  unknown   \n",
       "10823     0  cellular   16   nov       449         2     33     4  success   \n",
       "10824     0  cellular   20   aug       197        13     -1     0  unknown   \n",
       "10825     0  cellular   25   aug       372         5     -1     0  unknown   \n",
       "10826     0  cellular   23   mar       269         1     -1     0  unknown   \n",
       "\n",
       "       deposit  \n",
       "0            0  \n",
       "1            0  \n",
       "2            0  \n",
       "3            0  \n",
       "4            1  \n",
       "...        ...  \n",
       "10822        0  \n",
       "10823        1  \n",
       "10824        0  \n",
       "10825        1  \n",
       "10826        0  \n",
       "\n",
       "[10827 rows x 17 columns]"
      ]
     },
     "execution_count": 9,
     "metadata": {},
     "output_type": "execute_result"
    }
   ],
   "source": [
    "data"
   ]
  },
  {
   "cell_type": "code",
   "execution_count": 10,
   "metadata": {},
   "outputs": [
    {
     "data": {
      "text/plain": [
       "age          0\n",
       "job          0\n",
       "marital      0\n",
       "education    0\n",
       "defaulter    0\n",
       "balance      0\n",
       "housing      0\n",
       "loan         0\n",
       "contact      0\n",
       "day          0\n",
       "month        0\n",
       "duration     0\n",
       "campaign     0\n",
       "pdays        0\n",
       "prev         0\n",
       "poutcome     0\n",
       "deposit      0\n",
       "dtype: int64"
      ]
     },
     "execution_count": 10,
     "metadata": {},
     "output_type": "execute_result"
    }
   ],
   "source": [
    "data.isnull().sum()"
   ]
  },
  {
   "cell_type": "code",
   "execution_count": 11,
   "metadata": {},
   "outputs": [
    {
     "data": {
      "text/html": [
       "<div>\n",
       "<style scoped>\n",
       "    .dataframe tbody tr th:only-of-type {\n",
       "        vertical-align: middle;\n",
       "    }\n",
       "\n",
       "    .dataframe tbody tr th {\n",
       "        vertical-align: top;\n",
       "    }\n",
       "\n",
       "    .dataframe thead th {\n",
       "        text-align: right;\n",
       "    }\n",
       "</style>\n",
       "<table border=\"1\" class=\"dataframe\">\n",
       "  <thead>\n",
       "    <tr style=\"text-align: right;\">\n",
       "      <th></th>\n",
       "      <th>age</th>\n",
       "      <th>defaulter</th>\n",
       "      <th>balance</th>\n",
       "      <th>housing</th>\n",
       "      <th>loan</th>\n",
       "      <th>day</th>\n",
       "      <th>duration</th>\n",
       "      <th>campaign</th>\n",
       "      <th>pdays</th>\n",
       "      <th>prev</th>\n",
       "      <th>deposit</th>\n",
       "    </tr>\n",
       "  </thead>\n",
       "  <tbody>\n",
       "    <tr>\n",
       "      <th>count</th>\n",
       "      <td>10827.000000</td>\n",
       "      <td>10827.000000</td>\n",
       "      <td>10827.000000</td>\n",
       "      <td>10827.000000</td>\n",
       "      <td>10827.000000</td>\n",
       "      <td>10827.000000</td>\n",
       "      <td>10827.000000</td>\n",
       "      <td>10827.000000</td>\n",
       "      <td>10827.000000</td>\n",
       "      <td>10827.000000</td>\n",
       "      <td>10827.000000</td>\n",
       "    </tr>\n",
       "    <tr>\n",
       "      <th>mean</th>\n",
       "      <td>41.241711</td>\n",
       "      <td>0.014686</td>\n",
       "      <td>1515.509098</td>\n",
       "      <td>0.473815</td>\n",
       "      <td>0.130507</td>\n",
       "      <td>15.656599</td>\n",
       "      <td>372.065484</td>\n",
       "      <td>2.508728</td>\n",
       "      <td>51.282165</td>\n",
       "      <td>0.831717</td>\n",
       "      <td>0.473631</td>\n",
       "    </tr>\n",
       "    <tr>\n",
       "      <th>std</th>\n",
       "      <td>11.890995</td>\n",
       "      <td>0.120296</td>\n",
       "      <td>3213.728385</td>\n",
       "      <td>0.499337</td>\n",
       "      <td>0.336876</td>\n",
       "      <td>8.415440</td>\n",
       "      <td>347.035076</td>\n",
       "      <td>2.719709</td>\n",
       "      <td>108.593035</td>\n",
       "      <td>2.297827</td>\n",
       "      <td>0.499327</td>\n",
       "    </tr>\n",
       "    <tr>\n",
       "      <th>min</th>\n",
       "      <td>18.000000</td>\n",
       "      <td>0.000000</td>\n",
       "      <td>-6847.000000</td>\n",
       "      <td>0.000000</td>\n",
       "      <td>0.000000</td>\n",
       "      <td>1.000000</td>\n",
       "      <td>2.000000</td>\n",
       "      <td>1.000000</td>\n",
       "      <td>-1.000000</td>\n",
       "      <td>0.000000</td>\n",
       "      <td>0.000000</td>\n",
       "    </tr>\n",
       "    <tr>\n",
       "      <th>25%</th>\n",
       "      <td>32.000000</td>\n",
       "      <td>0.000000</td>\n",
       "      <td>122.000000</td>\n",
       "      <td>0.000000</td>\n",
       "      <td>0.000000</td>\n",
       "      <td>8.000000</td>\n",
       "      <td>138.000000</td>\n",
       "      <td>1.000000</td>\n",
       "      <td>-1.000000</td>\n",
       "      <td>0.000000</td>\n",
       "      <td>0.000000</td>\n",
       "    </tr>\n",
       "    <tr>\n",
       "      <th>50%</th>\n",
       "      <td>39.000000</td>\n",
       "      <td>0.000000</td>\n",
       "      <td>549.000000</td>\n",
       "      <td>0.000000</td>\n",
       "      <td>0.000000</td>\n",
       "      <td>15.000000</td>\n",
       "      <td>255.000000</td>\n",
       "      <td>2.000000</td>\n",
       "      <td>-1.000000</td>\n",
       "      <td>0.000000</td>\n",
       "      <td>0.000000</td>\n",
       "    </tr>\n",
       "    <tr>\n",
       "      <th>75%</th>\n",
       "      <td>49.000000</td>\n",
       "      <td>0.000000</td>\n",
       "      <td>1698.000000</td>\n",
       "      <td>1.000000</td>\n",
       "      <td>0.000000</td>\n",
       "      <td>22.000000</td>\n",
       "      <td>498.000000</td>\n",
       "      <td>3.000000</td>\n",
       "      <td>17.000000</td>\n",
       "      <td>1.000000</td>\n",
       "      <td>1.000000</td>\n",
       "    </tr>\n",
       "    <tr>\n",
       "      <th>max</th>\n",
       "      <td>95.000000</td>\n",
       "      <td>1.000000</td>\n",
       "      <td>81204.000000</td>\n",
       "      <td>1.000000</td>\n",
       "      <td>1.000000</td>\n",
       "      <td>31.000000</td>\n",
       "      <td>3881.000000</td>\n",
       "      <td>63.000000</td>\n",
       "      <td>854.000000</td>\n",
       "      <td>58.000000</td>\n",
       "      <td>1.000000</td>\n",
       "    </tr>\n",
       "  </tbody>\n",
       "</table>\n",
       "</div>"
      ],
      "text/plain": [
       "                age     defaulter       balance       housing          loan  \\\n",
       "count  10827.000000  10827.000000  10827.000000  10827.000000  10827.000000   \n",
       "mean      41.241711      0.014686   1515.509098      0.473815      0.130507   \n",
       "std       11.890995      0.120296   3213.728385      0.499337      0.336876   \n",
       "min       18.000000      0.000000  -6847.000000      0.000000      0.000000   \n",
       "25%       32.000000      0.000000    122.000000      0.000000      0.000000   \n",
       "50%       39.000000      0.000000    549.000000      0.000000      0.000000   \n",
       "75%       49.000000      0.000000   1698.000000      1.000000      0.000000   \n",
       "max       95.000000      1.000000  81204.000000      1.000000      1.000000   \n",
       "\n",
       "                day      duration      campaign         pdays          prev  \\\n",
       "count  10827.000000  10827.000000  10827.000000  10827.000000  10827.000000   \n",
       "mean      15.656599    372.065484      2.508728     51.282165      0.831717   \n",
       "std        8.415440    347.035076      2.719709    108.593035      2.297827   \n",
       "min        1.000000      2.000000      1.000000     -1.000000      0.000000   \n",
       "25%        8.000000    138.000000      1.000000     -1.000000      0.000000   \n",
       "50%       15.000000    255.000000      2.000000     -1.000000      0.000000   \n",
       "75%       22.000000    498.000000      3.000000     17.000000      1.000000   \n",
       "max       31.000000   3881.000000     63.000000    854.000000     58.000000   \n",
       "\n",
       "            deposit  \n",
       "count  10827.000000  \n",
       "mean       0.473631  \n",
       "std        0.499327  \n",
       "min        0.000000  \n",
       "25%        0.000000  \n",
       "50%        0.000000  \n",
       "75%        1.000000  \n",
       "max        1.000000  "
      ]
     },
     "execution_count": 11,
     "metadata": {},
     "output_type": "execute_result"
    }
   ],
   "source": [
    "data.describe()"
   ]
  },
  {
   "cell_type": "code",
   "execution_count": 12,
   "metadata": {},
   "outputs": [
    {
     "name": "stdout",
     "output_type": "stream",
     "text": [
      "<class 'pandas.core.frame.DataFrame'>\n",
      "RangeIndex: 10827 entries, 0 to 10826\n",
      "Data columns (total 17 columns):\n",
      " #   Column     Non-Null Count  Dtype \n",
      "---  ------     --------------  ----- \n",
      " 0   age        10827 non-null  int64 \n",
      " 1   job        10827 non-null  object\n",
      " 2   marital    10827 non-null  object\n",
      " 3   education  10827 non-null  object\n",
      " 4   defaulter  10827 non-null  int64 \n",
      " 5   balance    10827 non-null  int64 \n",
      " 6   housing    10827 non-null  int64 \n",
      " 7   loan       10827 non-null  int64 \n",
      " 8   contact    10827 non-null  object\n",
      " 9   day        10827 non-null  int64 \n",
      " 10  month      10827 non-null  object\n",
      " 11  duration   10827 non-null  int64 \n",
      " 12  campaign   10827 non-null  int64 \n",
      " 13  pdays      10827 non-null  int64 \n",
      " 14  prev       10827 non-null  int64 \n",
      " 15  poutcome   10827 non-null  object\n",
      " 16  deposit    10827 non-null  int64 \n",
      "dtypes: int64(11), object(6)\n",
      "memory usage: 1.4+ MB\n"
     ]
    }
   ],
   "source": [
    "# To get a concise summary of the dataframe\n",
    "\n",
    "data.info()"
   ]
  },
  {
   "cell_type": "code",
   "execution_count": 13,
   "metadata": {},
   "outputs": [
    {
     "data": {
      "text/html": [
       "<div>\n",
       "<style scoped>\n",
       "    .dataframe tbody tr th:only-of-type {\n",
       "        vertical-align: middle;\n",
       "    }\n",
       "\n",
       "    .dataframe tbody tr th {\n",
       "        vertical-align: top;\n",
       "    }\n",
       "\n",
       "    .dataframe thead th {\n",
       "        text-align: right;\n",
       "    }\n",
       "</style>\n",
       "<table border=\"1\" class=\"dataframe\">\n",
       "  <thead>\n",
       "    <tr style=\"text-align: right;\">\n",
       "      <th></th>\n",
       "      <th>age</th>\n",
       "      <th>defaulter</th>\n",
       "      <th>balance</th>\n",
       "      <th>housing</th>\n",
       "      <th>loan</th>\n",
       "      <th>day</th>\n",
       "      <th>duration</th>\n",
       "      <th>campaign</th>\n",
       "      <th>pdays</th>\n",
       "      <th>prev</th>\n",
       "      <th>deposit</th>\n",
       "    </tr>\n",
       "  </thead>\n",
       "  <tbody>\n",
       "    <tr>\n",
       "      <th>age</th>\n",
       "      <td>141.395755</td>\n",
       "      <td>-0.012695</td>\n",
       "      <td>4.336795e+03</td>\n",
       "      <td>-1.005448</td>\n",
       "      <td>-0.119115</td>\n",
       "      <td>-0.068661</td>\n",
       "      <td>5.503291</td>\n",
       "      <td>-0.197334</td>\n",
       "      <td>1.340253</td>\n",
       "      <td>0.428265</td>\n",
       "      <td>0.211944</td>\n",
       "    </tr>\n",
       "    <tr>\n",
       "      <th>defaulter</th>\n",
       "      <td>-0.012695</td>\n",
       "      <td>0.014471</td>\n",
       "      <td>-2.314298e+01</td>\n",
       "      <td>0.000708</td>\n",
       "      <td>0.003071</td>\n",
       "      <td>0.015943</td>\n",
       "      <td>-0.465030</td>\n",
       "      <td>0.009063</td>\n",
       "      <td>-0.451124</td>\n",
       "      <td>-0.009444</td>\n",
       "      <td>-0.002338</td>\n",
       "    </tr>\n",
       "    <tr>\n",
       "      <th>balance</th>\n",
       "      <td>4336.795094</td>\n",
       "      <td>-23.142984</td>\n",
       "      <td>1.032805e+07</td>\n",
       "      <td>-121.663188</td>\n",
       "      <td>-90.767722</td>\n",
       "      <td>245.358011</td>\n",
       "      <td>25904.352120</td>\n",
       "      <td>-114.418540</td>\n",
       "      <td>5224.940025</td>\n",
       "      <td>226.065359</td>\n",
       "      <td>129.714331</td>\n",
       "    </tr>\n",
       "    <tr>\n",
       "      <th>housing</th>\n",
       "      <td>-1.005448</td>\n",
       "      <td>0.000708</td>\n",
       "      <td>-1.216632e+02</td>\n",
       "      <td>0.249337</td>\n",
       "      <td>0.012978</td>\n",
       "      <td>-0.067648</td>\n",
       "      <td>6.276932</td>\n",
       "      <td>0.007780</td>\n",
       "      <td>3.578837</td>\n",
       "      <td>0.002151</td>\n",
       "      <td>-0.050594</td>\n",
       "    </tr>\n",
       "    <tr>\n",
       "      <th>loan</th>\n",
       "      <td>-0.119115</td>\n",
       "      <td>0.003071</td>\n",
       "      <td>-9.076772e+01</td>\n",
       "      <td>0.012978</td>\n",
       "      <td>0.113485</td>\n",
       "      <td>0.050732</td>\n",
       "      <td>-0.808935</td>\n",
       "      <td>0.031791</td>\n",
       "      <td>-1.036920</td>\n",
       "      <td>-0.017016</td>\n",
       "      <td>-0.018589</td>\n",
       "    </tr>\n",
       "    <tr>\n",
       "      <th>day</th>\n",
       "      <td>-0.068661</td>\n",
       "      <td>0.015943</td>\n",
       "      <td>2.453580e+02</td>\n",
       "      <td>-0.067648</td>\n",
       "      <td>0.050732</td>\n",
       "      <td>70.819623</td>\n",
       "      <td>-48.642946</td>\n",
       "      <td>3.191895</td>\n",
       "      <td>-74.464522</td>\n",
       "      <td>-1.151273</td>\n",
       "      <td>-0.237857</td>\n",
       "    </tr>\n",
       "    <tr>\n",
       "      <th>duration</th>\n",
       "      <td>5.503291</td>\n",
       "      <td>-0.465030</td>\n",
       "      <td>2.590435e+04</td>\n",
       "      <td>6.276932</td>\n",
       "      <td>-0.808935</td>\n",
       "      <td>-48.642946</td>\n",
       "      <td>120433.343855</td>\n",
       "      <td>-39.031377</td>\n",
       "      <td>-953.871333</td>\n",
       "      <td>-20.957850</td>\n",
       "      <td>78.875965</td>\n",
       "    </tr>\n",
       "    <tr>\n",
       "      <th>campaign</th>\n",
       "      <td>-0.197334</td>\n",
       "      <td>0.009063</td>\n",
       "      <td>-1.144185e+02</td>\n",
       "      <td>0.007780</td>\n",
       "      <td>0.031791</td>\n",
       "      <td>3.191895</td>\n",
       "      <td>-39.031377</td>\n",
       "      <td>7.396816</td>\n",
       "      <td>-30.138848</td>\n",
       "      <td>-0.308433</td>\n",
       "      <td>-0.172987</td>\n",
       "    </tr>\n",
       "    <tr>\n",
       "      <th>pdays</th>\n",
       "      <td>1.340253</td>\n",
       "      <td>-0.451124</td>\n",
       "      <td>5.224940e+03</td>\n",
       "      <td>3.578837</td>\n",
       "      <td>-1.036920</td>\n",
       "      <td>-74.464522</td>\n",
       "      <td>-953.871333</td>\n",
       "      <td>-30.138848</td>\n",
       "      <td>11792.447348</td>\n",
       "      <td>126.328848</td>\n",
       "      <td>8.312494</td>\n",
       "    </tr>\n",
       "    <tr>\n",
       "      <th>prev</th>\n",
       "      <td>0.428265</td>\n",
       "      <td>-0.009444</td>\n",
       "      <td>2.260654e+02</td>\n",
       "      <td>0.002151</td>\n",
       "      <td>-0.017016</td>\n",
       "      <td>-1.151273</td>\n",
       "      <td>-20.957850</td>\n",
       "      <td>-0.308433</td>\n",
       "      <td>126.328848</td>\n",
       "      <td>5.280010</td>\n",
       "      <td>0.160720</td>\n",
       "    </tr>\n",
       "    <tr>\n",
       "      <th>deposit</th>\n",
       "      <td>0.211944</td>\n",
       "      <td>-0.002338</td>\n",
       "      <td>1.297143e+02</td>\n",
       "      <td>-0.050594</td>\n",
       "      <td>-0.018589</td>\n",
       "      <td>-0.237857</td>\n",
       "      <td>78.875965</td>\n",
       "      <td>-0.172987</td>\n",
       "      <td>8.312494</td>\n",
       "      <td>0.160720</td>\n",
       "      <td>0.249328</td>\n",
       "    </tr>\n",
       "  </tbody>\n",
       "</table>\n",
       "</div>"
      ],
      "text/plain": [
       "                   age  defaulter       balance     housing       loan  \\\n",
       "age         141.395755  -0.012695  4.336795e+03   -1.005448  -0.119115   \n",
       "defaulter    -0.012695   0.014471 -2.314298e+01    0.000708   0.003071   \n",
       "balance    4336.795094 -23.142984  1.032805e+07 -121.663188 -90.767722   \n",
       "housing      -1.005448   0.000708 -1.216632e+02    0.249337   0.012978   \n",
       "loan         -0.119115   0.003071 -9.076772e+01    0.012978   0.113485   \n",
       "day          -0.068661   0.015943  2.453580e+02   -0.067648   0.050732   \n",
       "duration      5.503291  -0.465030  2.590435e+04    6.276932  -0.808935   \n",
       "campaign     -0.197334   0.009063 -1.144185e+02    0.007780   0.031791   \n",
       "pdays         1.340253  -0.451124  5.224940e+03    3.578837  -1.036920   \n",
       "prev          0.428265  -0.009444  2.260654e+02    0.002151  -0.017016   \n",
       "deposit       0.211944  -0.002338  1.297143e+02   -0.050594  -0.018589   \n",
       "\n",
       "                  day       duration    campaign         pdays        prev  \\\n",
       "age         -0.068661       5.503291   -0.197334      1.340253    0.428265   \n",
       "defaulter    0.015943      -0.465030    0.009063     -0.451124   -0.009444   \n",
       "balance    245.358011   25904.352120 -114.418540   5224.940025  226.065359   \n",
       "housing     -0.067648       6.276932    0.007780      3.578837    0.002151   \n",
       "loan         0.050732      -0.808935    0.031791     -1.036920   -0.017016   \n",
       "day         70.819623     -48.642946    3.191895    -74.464522   -1.151273   \n",
       "duration   -48.642946  120433.343855  -39.031377   -953.871333  -20.957850   \n",
       "campaign     3.191895     -39.031377    7.396816    -30.138848   -0.308433   \n",
       "pdays      -74.464522    -953.871333  -30.138848  11792.447348  126.328848   \n",
       "prev        -1.151273     -20.957850   -0.308433    126.328848    5.280010   \n",
       "deposit     -0.237857      78.875965   -0.172987      8.312494    0.160720   \n",
       "\n",
       "              deposit  \n",
       "age          0.211944  \n",
       "defaulter   -0.002338  \n",
       "balance    129.714331  \n",
       "housing     -0.050594  \n",
       "loan        -0.018589  \n",
       "day         -0.237857  \n",
       "duration    78.875965  \n",
       "campaign    -0.172987  \n",
       "pdays        8.312494  \n",
       "prev         0.160720  \n",
       "deposit      0.249328  "
      ]
     },
     "execution_count": 13,
     "metadata": {},
     "output_type": "execute_result"
    }
   ],
   "source": [
    "numeric_data = data.select_dtypes(include=['number'])\n",
    "numeric_data.cov()"
   ]
  },
  {
   "cell_type": "code",
   "execution_count": 14,
   "metadata": {},
   "outputs": [
    {
     "data": {
      "text/html": [
       "<div>\n",
       "<style scoped>\n",
       "    .dataframe tbody tr th:only-of-type {\n",
       "        vertical-align: middle;\n",
       "    }\n",
       "\n",
       "    .dataframe tbody tr th {\n",
       "        vertical-align: top;\n",
       "    }\n",
       "\n",
       "    .dataframe thead th {\n",
       "        text-align: right;\n",
       "    }\n",
       "</style>\n",
       "<table border=\"1\" class=\"dataframe\">\n",
       "  <thead>\n",
       "    <tr style=\"text-align: right;\">\n",
       "      <th></th>\n",
       "      <th>age</th>\n",
       "      <th>defaulter</th>\n",
       "      <th>balance</th>\n",
       "      <th>housing</th>\n",
       "      <th>loan</th>\n",
       "      <th>day</th>\n",
       "      <th>duration</th>\n",
       "      <th>campaign</th>\n",
       "      <th>pdays</th>\n",
       "      <th>prev</th>\n",
       "      <th>deposit</th>\n",
       "    </tr>\n",
       "  </thead>\n",
       "  <tbody>\n",
       "    <tr>\n",
       "      <th>age</th>\n",
       "      <td>1.000000</td>\n",
       "      <td>-0.008875</td>\n",
       "      <td>0.113486</td>\n",
       "      <td>-0.169335</td>\n",
       "      <td>-0.029736</td>\n",
       "      <td>-0.000686</td>\n",
       "      <td>0.001334</td>\n",
       "      <td>-0.006102</td>\n",
       "      <td>0.001038</td>\n",
       "      <td>0.015674</td>\n",
       "      <td>0.035696</td>\n",
       "    </tr>\n",
       "    <tr>\n",
       "      <th>defaulter</th>\n",
       "      <td>-0.008875</td>\n",
       "      <td>1.000000</td>\n",
       "      <td>-0.059863</td>\n",
       "      <td>0.011784</td>\n",
       "      <td>0.075787</td>\n",
       "      <td>0.015749</td>\n",
       "      <td>-0.011139</td>\n",
       "      <td>0.027700</td>\n",
       "      <td>-0.034534</td>\n",
       "      <td>-0.034166</td>\n",
       "      <td>-0.038917</td>\n",
       "    </tr>\n",
       "    <tr>\n",
       "      <th>balance</th>\n",
       "      <td>0.113486</td>\n",
       "      <td>-0.059863</td>\n",
       "      <td>1.000000</td>\n",
       "      <td>-0.075815</td>\n",
       "      <td>-0.083840</td>\n",
       "      <td>0.009072</td>\n",
       "      <td>0.023227</td>\n",
       "      <td>-0.013091</td>\n",
       "      <td>0.014972</td>\n",
       "      <td>0.030613</td>\n",
       "      <td>0.080834</td>\n",
       "    </tr>\n",
       "    <tr>\n",
       "      <th>housing</th>\n",
       "      <td>-0.169335</td>\n",
       "      <td>0.011784</td>\n",
       "      <td>-0.075815</td>\n",
       "      <td>1.000000</td>\n",
       "      <td>0.077151</td>\n",
       "      <td>-0.016098</td>\n",
       "      <td>0.036223</td>\n",
       "      <td>0.005729</td>\n",
       "      <td>0.066000</td>\n",
       "      <td>0.001875</td>\n",
       "      <td>-0.202916</td>\n",
       "    </tr>\n",
       "    <tr>\n",
       "      <th>loan</th>\n",
       "      <td>-0.029736</td>\n",
       "      <td>0.075787</td>\n",
       "      <td>-0.083840</td>\n",
       "      <td>0.077151</td>\n",
       "      <td>1.000000</td>\n",
       "      <td>0.017895</td>\n",
       "      <td>-0.006919</td>\n",
       "      <td>0.034698</td>\n",
       "      <td>-0.028345</td>\n",
       "      <td>-0.021982</td>\n",
       "      <td>-0.110507</td>\n",
       "    </tr>\n",
       "    <tr>\n",
       "      <th>day</th>\n",
       "      <td>-0.000686</td>\n",
       "      <td>0.015749</td>\n",
       "      <td>0.009072</td>\n",
       "      <td>-0.016098</td>\n",
       "      <td>0.017895</td>\n",
       "      <td>1.000000</td>\n",
       "      <td>-0.016656</td>\n",
       "      <td>0.139460</td>\n",
       "      <td>-0.081484</td>\n",
       "      <td>-0.059537</td>\n",
       "      <td>-0.056605</td>\n",
       "    </tr>\n",
       "    <tr>\n",
       "      <th>duration</th>\n",
       "      <td>0.001334</td>\n",
       "      <td>-0.011139</td>\n",
       "      <td>0.023227</td>\n",
       "      <td>0.036223</td>\n",
       "      <td>-0.006919</td>\n",
       "      <td>-0.016656</td>\n",
       "      <td>1.000000</td>\n",
       "      <td>-0.041354</td>\n",
       "      <td>-0.025311</td>\n",
       "      <td>-0.026282</td>\n",
       "      <td>0.455183</td>\n",
       "    </tr>\n",
       "    <tr>\n",
       "      <th>campaign</th>\n",
       "      <td>-0.006102</td>\n",
       "      <td>0.027700</td>\n",
       "      <td>-0.013091</td>\n",
       "      <td>0.005729</td>\n",
       "      <td>0.034698</td>\n",
       "      <td>0.139460</td>\n",
       "      <td>-0.041354</td>\n",
       "      <td>1.000000</td>\n",
       "      <td>-0.102047</td>\n",
       "      <td>-0.049354</td>\n",
       "      <td>-0.127381</td>\n",
       "    </tr>\n",
       "    <tr>\n",
       "      <th>pdays</th>\n",
       "      <td>0.001038</td>\n",
       "      <td>-0.034534</td>\n",
       "      <td>0.014972</td>\n",
       "      <td>0.066000</td>\n",
       "      <td>-0.028345</td>\n",
       "      <td>-0.081484</td>\n",
       "      <td>-0.025311</td>\n",
       "      <td>-0.102047</td>\n",
       "      <td>1.000000</td>\n",
       "      <td>0.506271</td>\n",
       "      <td>0.153301</td>\n",
       "    </tr>\n",
       "    <tr>\n",
       "      <th>prev</th>\n",
       "      <td>0.015674</td>\n",
       "      <td>-0.034166</td>\n",
       "      <td>0.030613</td>\n",
       "      <td>0.001875</td>\n",
       "      <td>-0.021982</td>\n",
       "      <td>-0.059537</td>\n",
       "      <td>-0.026282</td>\n",
       "      <td>-0.049354</td>\n",
       "      <td>0.506271</td>\n",
       "      <td>1.000000</td>\n",
       "      <td>0.140077</td>\n",
       "    </tr>\n",
       "    <tr>\n",
       "      <th>deposit</th>\n",
       "      <td>0.035696</td>\n",
       "      <td>-0.038917</td>\n",
       "      <td>0.080834</td>\n",
       "      <td>-0.202916</td>\n",
       "      <td>-0.110507</td>\n",
       "      <td>-0.056605</td>\n",
       "      <td>0.455183</td>\n",
       "      <td>-0.127381</td>\n",
       "      <td>0.153301</td>\n",
       "      <td>0.140077</td>\n",
       "      <td>1.000000</td>\n",
       "    </tr>\n",
       "  </tbody>\n",
       "</table>\n",
       "</div>"
      ],
      "text/plain": [
       "                age  defaulter   balance   housing      loan       day  \\\n",
       "age        1.000000  -0.008875  0.113486 -0.169335 -0.029736 -0.000686   \n",
       "defaulter -0.008875   1.000000 -0.059863  0.011784  0.075787  0.015749   \n",
       "balance    0.113486  -0.059863  1.000000 -0.075815 -0.083840  0.009072   \n",
       "housing   -0.169335   0.011784 -0.075815  1.000000  0.077151 -0.016098   \n",
       "loan      -0.029736   0.075787 -0.083840  0.077151  1.000000  0.017895   \n",
       "day       -0.000686   0.015749  0.009072 -0.016098  0.017895  1.000000   \n",
       "duration   0.001334  -0.011139  0.023227  0.036223 -0.006919 -0.016656   \n",
       "campaign  -0.006102   0.027700 -0.013091  0.005729  0.034698  0.139460   \n",
       "pdays      0.001038  -0.034534  0.014972  0.066000 -0.028345 -0.081484   \n",
       "prev       0.015674  -0.034166  0.030613  0.001875 -0.021982 -0.059537   \n",
       "deposit    0.035696  -0.038917  0.080834 -0.202916 -0.110507 -0.056605   \n",
       "\n",
       "           duration  campaign     pdays      prev   deposit  \n",
       "age        0.001334 -0.006102  0.001038  0.015674  0.035696  \n",
       "defaulter -0.011139  0.027700 -0.034534 -0.034166 -0.038917  \n",
       "balance    0.023227 -0.013091  0.014972  0.030613  0.080834  \n",
       "housing    0.036223  0.005729  0.066000  0.001875 -0.202916  \n",
       "loan      -0.006919  0.034698 -0.028345 -0.021982 -0.110507  \n",
       "day       -0.016656  0.139460 -0.081484 -0.059537 -0.056605  \n",
       "duration   1.000000 -0.041354 -0.025311 -0.026282  0.455183  \n",
       "campaign  -0.041354  1.000000 -0.102047 -0.049354 -0.127381  \n",
       "pdays     -0.025311 -0.102047  1.000000  0.506271  0.153301  \n",
       "prev      -0.026282 -0.049354  0.506271  1.000000  0.140077  \n",
       "deposit    0.455183 -0.127381  0.153301  0.140077  1.000000  "
      ]
     },
     "execution_count": 14,
     "metadata": {},
     "output_type": "execute_result"
    }
   ],
   "source": [
    "numeric_data.corr()"
   ]
  },
  {
   "cell_type": "code",
   "execution_count": 15,
   "metadata": {},
   "outputs": [
    {
     "data": {
      "text/html": [
       "<div>\n",
       "<style scoped>\n",
       "    .dataframe tbody tr th:only-of-type {\n",
       "        vertical-align: middle;\n",
       "    }\n",
       "\n",
       "    .dataframe tbody tr th {\n",
       "        vertical-align: top;\n",
       "    }\n",
       "\n",
       "    .dataframe thead th {\n",
       "        text-align: right;\n",
       "    }\n",
       "</style>\n",
       "<table border=\"1\" class=\"dataframe\">\n",
       "  <thead>\n",
       "    <tr style=\"text-align: right;\">\n",
       "      <th></th>\n",
       "      <th>age</th>\n",
       "      <th>balance</th>\n",
       "      <th>campaign</th>\n",
       "      <th>day</th>\n",
       "      <th>defaulter</th>\n",
       "      <th>deposit</th>\n",
       "      <th>duration</th>\n",
       "      <th>housing</th>\n",
       "      <th>loan</th>\n",
       "      <th>pdays</th>\n",
       "      <th>prev</th>\n",
       "    </tr>\n",
       "    <tr>\n",
       "      <th>job</th>\n",
       "      <th></th>\n",
       "      <th></th>\n",
       "      <th></th>\n",
       "      <th></th>\n",
       "      <th></th>\n",
       "      <th></th>\n",
       "      <th></th>\n",
       "      <th></th>\n",
       "      <th></th>\n",
       "      <th></th>\n",
       "      <th></th>\n",
       "    </tr>\n",
       "  </thead>\n",
       "  <tbody>\n",
       "    <tr>\n",
       "      <th>admin.</th>\n",
       "      <td>39.474576</td>\n",
       "      <td>1197.163328</td>\n",
       "      <td>2.368259</td>\n",
       "      <td>15.334361</td>\n",
       "      <td>0.007704</td>\n",
       "      <td>0.475347</td>\n",
       "      <td>349.755008</td>\n",
       "      <td>0.551618</td>\n",
       "      <td>0.176425</td>\n",
       "      <td>64.264253</td>\n",
       "      <td>0.983821</td>\n",
       "    </tr>\n",
       "    <tr>\n",
       "      <th>blue-collar</th>\n",
       "      <td>39.444859</td>\n",
       "      <td>1181.914225</td>\n",
       "      <td>2.541822</td>\n",
       "      <td>15.255727</td>\n",
       "      <td>0.020245</td>\n",
       "      <td>0.364411</td>\n",
       "      <td>393.272776</td>\n",
       "      <td>0.685136</td>\n",
       "      <td>0.173681</td>\n",
       "      <td>44.337773</td>\n",
       "      <td>0.638253</td>\n",
       "    </tr>\n",
       "    <tr>\n",
       "      <th>entrepreneur</th>\n",
       "      <td>43.034700</td>\n",
       "      <td>1562.611987</td>\n",
       "      <td>2.753943</td>\n",
       "      <td>15.299685</td>\n",
       "      <td>0.028391</td>\n",
       "      <td>0.362776</td>\n",
       "      <td>359.432177</td>\n",
       "      <td>0.501577</td>\n",
       "      <td>0.205047</td>\n",
       "      <td>33.451104</td>\n",
       "      <td>0.552050</td>\n",
       "    </tr>\n",
       "    <tr>\n",
       "      <th>housemaid</th>\n",
       "      <td>47.532075</td>\n",
       "      <td>1365.815094</td>\n",
       "      <td>2.705660</td>\n",
       "      <td>16.313208</td>\n",
       "      <td>0.030189</td>\n",
       "      <td>0.400000</td>\n",
       "      <td>342.875472</td>\n",
       "      <td>0.275472</td>\n",
       "      <td>0.067925</td>\n",
       "      <td>33.615094</td>\n",
       "      <td>0.501887</td>\n",
       "    </tr>\n",
       "    <tr>\n",
       "      <th>management</th>\n",
       "      <td>40.218437</td>\n",
       "      <td>1780.230060</td>\n",
       "      <td>2.595190</td>\n",
       "      <td>15.745892</td>\n",
       "      <td>0.014830</td>\n",
       "      <td>0.505411</td>\n",
       "      <td>362.024850</td>\n",
       "      <td>0.418036</td>\n",
       "      <td>0.100601</td>\n",
       "      <td>54.223647</td>\n",
       "      <td>0.925050</td>\n",
       "    </tr>\n",
       "    <tr>\n",
       "      <th>retired</th>\n",
       "      <td>65.327609</td>\n",
       "      <td>2440.286658</td>\n",
       "      <td>2.117569</td>\n",
       "      <td>15.541612</td>\n",
       "      <td>0.006605</td>\n",
       "      <td>0.663144</td>\n",
       "      <td>391.624835</td>\n",
       "      <td>0.158520</td>\n",
       "      <td>0.072655</td>\n",
       "      <td>52.570674</td>\n",
       "      <td>0.957728</td>\n",
       "    </tr>\n",
       "    <tr>\n",
       "      <th>self-employed</th>\n",
       "      <td>39.772152</td>\n",
       "      <td>1886.030380</td>\n",
       "      <td>2.541772</td>\n",
       "      <td>15.962025</td>\n",
       "      <td>0.020253</td>\n",
       "      <td>0.460759</td>\n",
       "      <td>392.030380</td>\n",
       "      <td>0.435443</td>\n",
       "      <td>0.139241</td>\n",
       "      <td>45.200000</td>\n",
       "      <td>0.779747</td>\n",
       "    </tr>\n",
       "    <tr>\n",
       "      <th>services</th>\n",
       "      <td>38.187010</td>\n",
       "      <td>1061.008959</td>\n",
       "      <td>2.581187</td>\n",
       "      <td>15.779395</td>\n",
       "      <td>0.007839</td>\n",
       "      <td>0.400896</td>\n",
       "      <td>389.098544</td>\n",
       "      <td>0.610302</td>\n",
       "      <td>0.170213</td>\n",
       "      <td>50.734602</td>\n",
       "      <td>0.667413</td>\n",
       "    </tr>\n",
       "    <tr>\n",
       "      <th>student</th>\n",
       "      <td>26.174785</td>\n",
       "      <td>1432.438395</td>\n",
       "      <td>2.171920</td>\n",
       "      <td>15.240688</td>\n",
       "      <td>0.002865</td>\n",
       "      <td>0.744986</td>\n",
       "      <td>331.679083</td>\n",
       "      <td>0.146132</td>\n",
       "      <td>0.002865</td>\n",
       "      <td>70.653295</td>\n",
       "      <td>1.332378</td>\n",
       "    </tr>\n",
       "    <tr>\n",
       "      <th>technician</th>\n",
       "      <td>39.019808</td>\n",
       "      <td>1552.985286</td>\n",
       "      <td>2.629881</td>\n",
       "      <td>16.176570</td>\n",
       "      <td>0.015846</td>\n",
       "      <td>0.461234</td>\n",
       "      <td>365.086022</td>\n",
       "      <td>0.482173</td>\n",
       "      <td>0.134692</td>\n",
       "      <td>47.172609</td>\n",
       "      <td>0.841539</td>\n",
       "    </tr>\n",
       "    <tr>\n",
       "      <th>unemployed</th>\n",
       "      <td>40.858790</td>\n",
       "      <td>1262.221902</td>\n",
       "      <td>2.144092</td>\n",
       "      <td>15.602305</td>\n",
       "      <td>0.023055</td>\n",
       "      <td>0.561960</td>\n",
       "      <td>420.994236</td>\n",
       "      <td>0.317003</td>\n",
       "      <td>0.060519</td>\n",
       "      <td>54.533141</td>\n",
       "      <td>0.818444</td>\n",
       "    </tr>\n",
       "    <tr>\n",
       "      <th>unknown</th>\n",
       "      <td>46.865672</td>\n",
       "      <td>1720.686567</td>\n",
       "      <td>2.850746</td>\n",
       "      <td>15.492537</td>\n",
       "      <td>0.000000</td>\n",
       "      <td>0.492537</td>\n",
       "      <td>334.611940</td>\n",
       "      <td>0.044776</td>\n",
       "      <td>0.029851</td>\n",
       "      <td>58.268657</td>\n",
       "      <td>0.731343</td>\n",
       "    </tr>\n",
       "  </tbody>\n",
       "</table>\n",
       "</div>"
      ],
      "text/plain": [
       "                     age      balance  campaign        day  defaulter  \\\n",
       "job                                                                     \n",
       "admin.         39.474576  1197.163328  2.368259  15.334361   0.007704   \n",
       "blue-collar    39.444859  1181.914225  2.541822  15.255727   0.020245   \n",
       "entrepreneur   43.034700  1562.611987  2.753943  15.299685   0.028391   \n",
       "housemaid      47.532075  1365.815094  2.705660  16.313208   0.030189   \n",
       "management     40.218437  1780.230060  2.595190  15.745892   0.014830   \n",
       "retired        65.327609  2440.286658  2.117569  15.541612   0.006605   \n",
       "self-employed  39.772152  1886.030380  2.541772  15.962025   0.020253   \n",
       "services       38.187010  1061.008959  2.581187  15.779395   0.007839   \n",
       "student        26.174785  1432.438395  2.171920  15.240688   0.002865   \n",
       "technician     39.019808  1552.985286  2.629881  16.176570   0.015846   \n",
       "unemployed     40.858790  1262.221902  2.144092  15.602305   0.023055   \n",
       "unknown        46.865672  1720.686567  2.850746  15.492537   0.000000   \n",
       "\n",
       "                deposit    duration   housing      loan      pdays      prev  \n",
       "job                                                                           \n",
       "admin.         0.475347  349.755008  0.551618  0.176425  64.264253  0.983821  \n",
       "blue-collar    0.364411  393.272776  0.685136  0.173681  44.337773  0.638253  \n",
       "entrepreneur   0.362776  359.432177  0.501577  0.205047  33.451104  0.552050  \n",
       "housemaid      0.400000  342.875472  0.275472  0.067925  33.615094  0.501887  \n",
       "management     0.505411  362.024850  0.418036  0.100601  54.223647  0.925050  \n",
       "retired        0.663144  391.624835  0.158520  0.072655  52.570674  0.957728  \n",
       "self-employed  0.460759  392.030380  0.435443  0.139241  45.200000  0.779747  \n",
       "services       0.400896  389.098544  0.610302  0.170213  50.734602  0.667413  \n",
       "student        0.744986  331.679083  0.146132  0.002865  70.653295  1.332378  \n",
       "technician     0.461234  365.086022  0.482173  0.134692  47.172609  0.841539  \n",
       "unemployed     0.561960  420.994236  0.317003  0.060519  54.533141  0.818444  \n",
       "unknown        0.492537  334.611940  0.044776  0.029851  58.268657  0.731343  "
      ]
     },
     "execution_count": 15,
     "metadata": {},
     "output_type": "execute_result"
    }
   ],
   "source": [
    "data.pivot_table(numeric_data,index=\"job\")"
   ]
  },
  {
   "cell_type": "code",
   "execution_count": 16,
   "metadata": {},
   "outputs": [
    {
     "data": {
      "text/html": [
       "<div>\n",
       "<style scoped>\n",
       "    .dataframe tbody tr th:only-of-type {\n",
       "        vertical-align: middle;\n",
       "    }\n",
       "\n",
       "    .dataframe tbody tr th {\n",
       "        vertical-align: top;\n",
       "    }\n",
       "\n",
       "    .dataframe thead th {\n",
       "        text-align: right;\n",
       "    }\n",
       "</style>\n",
       "<table border=\"1\" class=\"dataframe\">\n",
       "  <thead>\n",
       "    <tr style=\"text-align: right;\">\n",
       "      <th></th>\n",
       "      <th>age</th>\n",
       "      <th>balance</th>\n",
       "      <th>campaign</th>\n",
       "      <th>day</th>\n",
       "      <th>defaulter</th>\n",
       "      <th>deposit</th>\n",
       "      <th>duration</th>\n",
       "      <th>housing</th>\n",
       "      <th>loan</th>\n",
       "      <th>pdays</th>\n",
       "      <th>prev</th>\n",
       "    </tr>\n",
       "    <tr>\n",
       "      <th>month</th>\n",
       "      <th></th>\n",
       "      <th></th>\n",
       "      <th></th>\n",
       "      <th></th>\n",
       "      <th></th>\n",
       "      <th></th>\n",
       "      <th></th>\n",
       "      <th></th>\n",
       "      <th></th>\n",
       "      <th></th>\n",
       "      <th></th>\n",
       "    </tr>\n",
       "  </thead>\n",
       "  <tbody>\n",
       "    <tr>\n",
       "      <th>apr</th>\n",
       "      <td>40.359955</td>\n",
       "      <td>1729.874016</td>\n",
       "      <td>1.840270</td>\n",
       "      <td>18.569179</td>\n",
       "      <td>0.007874</td>\n",
       "      <td>0.622047</td>\n",
       "      <td>401.688414</td>\n",
       "      <td>0.520810</td>\n",
       "      <td>0.089989</td>\n",
       "      <td>80.753656</td>\n",
       "      <td>0.983127</td>\n",
       "    </tr>\n",
       "    <tr>\n",
       "      <th>aug</th>\n",
       "      <td>42.828475</td>\n",
       "      <td>1561.949153</td>\n",
       "      <td>3.512542</td>\n",
       "      <td>15.517966</td>\n",
       "      <td>0.013559</td>\n",
       "      <td>0.453559</td>\n",
       "      <td>352.448136</td>\n",
       "      <td>0.181695</td>\n",
       "      <td>0.081356</td>\n",
       "      <td>32.736271</td>\n",
       "      <td>0.627797</td>\n",
       "    </tr>\n",
       "    <tr>\n",
       "      <th>dec</th>\n",
       "      <td>45.869159</td>\n",
       "      <td>2645.271028</td>\n",
       "      <td>2.186916</td>\n",
       "      <td>14.196262</td>\n",
       "      <td>0.000000</td>\n",
       "      <td>0.906542</td>\n",
       "      <td>402.457944</td>\n",
       "      <td>0.177570</td>\n",
       "      <td>0.028037</td>\n",
       "      <td>112.691589</td>\n",
       "      <td>2.242991</td>\n",
       "    </tr>\n",
       "    <tr>\n",
       "      <th>feb</th>\n",
       "      <td>41.853918</td>\n",
       "      <td>1564.274900</td>\n",
       "      <td>2.160691</td>\n",
       "      <td>8.621514</td>\n",
       "      <td>0.006640</td>\n",
       "      <td>0.565737</td>\n",
       "      <td>340.112882</td>\n",
       "      <td>0.326693</td>\n",
       "      <td>0.115538</td>\n",
       "      <td>72.997344</td>\n",
       "      <td>1.321381</td>\n",
       "    </tr>\n",
       "    <tr>\n",
       "      <th>jan</th>\n",
       "      <td>42.519520</td>\n",
       "      <td>1157.441441</td>\n",
       "      <td>1.738739</td>\n",
       "      <td>25.738739</td>\n",
       "      <td>0.018018</td>\n",
       "      <td>0.414414</td>\n",
       "      <td>353.633634</td>\n",
       "      <td>0.237237</td>\n",
       "      <td>0.135135</td>\n",
       "      <td>59.594595</td>\n",
       "      <td>1.279279</td>\n",
       "    </tr>\n",
       "    <tr>\n",
       "      <th>jul</th>\n",
       "      <td>41.215847</td>\n",
       "      <td>1043.724727</td>\n",
       "      <td>3.308743</td>\n",
       "      <td>18.460383</td>\n",
       "      <td>0.028689</td>\n",
       "      <td>0.415984</td>\n",
       "      <td>418.535519</td>\n",
       "      <td>0.441257</td>\n",
       "      <td>0.266393</td>\n",
       "      <td>24.773224</td>\n",
       "      <td>0.373634</td>\n",
       "    </tr>\n",
       "    <tr>\n",
       "      <th>jun</th>\n",
       "      <td>41.516484</td>\n",
       "      <td>1579.423500</td>\n",
       "      <td>2.826712</td>\n",
       "      <td>11.282333</td>\n",
       "      <td>0.020287</td>\n",
       "      <td>0.448859</td>\n",
       "      <td>364.464074</td>\n",
       "      <td>0.361792</td>\n",
       "      <td>0.114117</td>\n",
       "      <td>22.447168</td>\n",
       "      <td>0.510566</td>\n",
       "    </tr>\n",
       "    <tr>\n",
       "      <th>mar</th>\n",
       "      <td>43.244361</td>\n",
       "      <td>2143.439850</td>\n",
       "      <td>2.003759</td>\n",
       "      <td>13.342105</td>\n",
       "      <td>0.000000</td>\n",
       "      <td>0.894737</td>\n",
       "      <td>286.150376</td>\n",
       "      <td>0.233083</td>\n",
       "      <td>0.048872</td>\n",
       "      <td>64.676692</td>\n",
       "      <td>1.210526</td>\n",
       "    </tr>\n",
       "    <tr>\n",
       "      <th>may</th>\n",
       "      <td>38.702762</td>\n",
       "      <td>1184.290698</td>\n",
       "      <td>2.332122</td>\n",
       "      <td>15.514898</td>\n",
       "      <td>0.014535</td>\n",
       "      <td>0.326672</td>\n",
       "      <td>378.564317</td>\n",
       "      <td>0.841206</td>\n",
       "      <td>0.132994</td>\n",
       "      <td>56.035610</td>\n",
       "      <td>0.726381</td>\n",
       "    </tr>\n",
       "    <tr>\n",
       "      <th>nov</th>\n",
       "      <td>42.130197</td>\n",
       "      <td>2333.782276</td>\n",
       "      <td>1.811816</td>\n",
       "      <td>17.373085</td>\n",
       "      <td>0.015317</td>\n",
       "      <td>0.427790</td>\n",
       "      <td>364.879650</td>\n",
       "      <td>0.493435</td>\n",
       "      <td>0.146608</td>\n",
       "      <td>46.089716</td>\n",
       "      <td>0.950766</td>\n",
       "    </tr>\n",
       "    <tr>\n",
       "      <th>oct</th>\n",
       "      <td>45.284211</td>\n",
       "      <td>1995.289474</td>\n",
       "      <td>1.521053</td>\n",
       "      <td>19.060526</td>\n",
       "      <td>0.000000</td>\n",
       "      <td>0.823684</td>\n",
       "      <td>341.139474</td>\n",
       "      <td>0.221053</td>\n",
       "      <td>0.071053</td>\n",
       "      <td>92.728947</td>\n",
       "      <td>1.481579</td>\n",
       "    </tr>\n",
       "    <tr>\n",
       "      <th>sep</th>\n",
       "      <td>44.073955</td>\n",
       "      <td>1939.652733</td>\n",
       "      <td>1.710611</td>\n",
       "      <td>12.199357</td>\n",
       "      <td>0.003215</td>\n",
       "      <td>0.848875</td>\n",
       "      <td>352.115756</td>\n",
       "      <td>0.221865</td>\n",
       "      <td>0.041801</td>\n",
       "      <td>117.961415</td>\n",
       "      <td>2.057878</td>\n",
       "    </tr>\n",
       "  </tbody>\n",
       "</table>\n",
       "</div>"
      ],
      "text/plain": [
       "             age      balance  campaign        day  defaulter   deposit  \\\n",
       "month                                                                     \n",
       "apr    40.359955  1729.874016  1.840270  18.569179   0.007874  0.622047   \n",
       "aug    42.828475  1561.949153  3.512542  15.517966   0.013559  0.453559   \n",
       "dec    45.869159  2645.271028  2.186916  14.196262   0.000000  0.906542   \n",
       "feb    41.853918  1564.274900  2.160691   8.621514   0.006640  0.565737   \n",
       "jan    42.519520  1157.441441  1.738739  25.738739   0.018018  0.414414   \n",
       "jul    41.215847  1043.724727  3.308743  18.460383   0.028689  0.415984   \n",
       "jun    41.516484  1579.423500  2.826712  11.282333   0.020287  0.448859   \n",
       "mar    43.244361  2143.439850  2.003759  13.342105   0.000000  0.894737   \n",
       "may    38.702762  1184.290698  2.332122  15.514898   0.014535  0.326672   \n",
       "nov    42.130197  2333.782276  1.811816  17.373085   0.015317  0.427790   \n",
       "oct    45.284211  1995.289474  1.521053  19.060526   0.000000  0.823684   \n",
       "sep    44.073955  1939.652733  1.710611  12.199357   0.003215  0.848875   \n",
       "\n",
       "         duration   housing      loan       pdays      prev  \n",
       "month                                                        \n",
       "apr    401.688414  0.520810  0.089989   80.753656  0.983127  \n",
       "aug    352.448136  0.181695  0.081356   32.736271  0.627797  \n",
       "dec    402.457944  0.177570  0.028037  112.691589  2.242991  \n",
       "feb    340.112882  0.326693  0.115538   72.997344  1.321381  \n",
       "jan    353.633634  0.237237  0.135135   59.594595  1.279279  \n",
       "jul    418.535519  0.441257  0.266393   24.773224  0.373634  \n",
       "jun    364.464074  0.361792  0.114117   22.447168  0.510566  \n",
       "mar    286.150376  0.233083  0.048872   64.676692  1.210526  \n",
       "may    378.564317  0.841206  0.132994   56.035610  0.726381  \n",
       "nov    364.879650  0.493435  0.146608   46.089716  0.950766  \n",
       "oct    341.139474  0.221053  0.071053   92.728947  1.481579  \n",
       "sep    352.115756  0.221865  0.041801  117.961415  2.057878  "
      ]
     },
     "execution_count": 16,
     "metadata": {},
     "output_type": "execute_result"
    }
   ],
   "source": [
    "data.pivot_table(numeric_data,index='month')"
   ]
  },
  {
   "cell_type": "code",
   "execution_count": 17,
   "metadata": {},
   "outputs": [
    {
     "data": {
      "text/html": [
       "<div>\n",
       "<style scoped>\n",
       "    .dataframe tbody tr th:only-of-type {\n",
       "        vertical-align: middle;\n",
       "    }\n",
       "\n",
       "    .dataframe tbody tr th {\n",
       "        vertical-align: top;\n",
       "    }\n",
       "\n",
       "    .dataframe thead th {\n",
       "        text-align: right;\n",
       "    }\n",
       "</style>\n",
       "<table border=\"1\" class=\"dataframe\">\n",
       "  <thead>\n",
       "    <tr style=\"text-align: right;\">\n",
       "      <th></th>\n",
       "      <th>age</th>\n",
       "      <th>balance</th>\n",
       "      <th>campaign</th>\n",
       "      <th>day</th>\n",
       "      <th>defaulter</th>\n",
       "      <th>deposit</th>\n",
       "      <th>duration</th>\n",
       "      <th>housing</th>\n",
       "      <th>loan</th>\n",
       "      <th>pdays</th>\n",
       "      <th>prev</th>\n",
       "    </tr>\n",
       "    <tr>\n",
       "      <th>marital</th>\n",
       "      <th></th>\n",
       "      <th></th>\n",
       "      <th></th>\n",
       "      <th></th>\n",
       "      <th></th>\n",
       "      <th></th>\n",
       "      <th></th>\n",
       "      <th></th>\n",
       "      <th></th>\n",
       "      <th></th>\n",
       "      <th></th>\n",
       "    </tr>\n",
       "  </thead>\n",
       "  <tbody>\n",
       "    <tr>\n",
       "      <th>divorced</th>\n",
       "      <td>47.420382</td>\n",
       "      <td>1365.987261</td>\n",
       "      <td>2.450637</td>\n",
       "      <td>15.670382</td>\n",
       "      <td>0.020701</td>\n",
       "      <td>0.484873</td>\n",
       "      <td>396.062898</td>\n",
       "      <td>0.482484</td>\n",
       "      <td>0.153662</td>\n",
       "      <td>46.617038</td>\n",
       "      <td>0.651274</td>\n",
       "    </tr>\n",
       "    <tr>\n",
       "      <th>married</th>\n",
       "      <td>44.503161</td>\n",
       "      <td>1580.067596</td>\n",
       "      <td>2.620846</td>\n",
       "      <td>15.655860</td>\n",
       "      <td>0.014103</td>\n",
       "      <td>0.433296</td>\n",
       "      <td>360.506727</td>\n",
       "      <td>0.489220</td>\n",
       "      <td>0.143783</td>\n",
       "      <td>49.387421</td>\n",
       "      <td>0.819420</td>\n",
       "    </tr>\n",
       "    <tr>\n",
       "      <th>single</th>\n",
       "      <td>33.046443</td>\n",
       "      <td>1453.644915</td>\n",
       "      <td>2.326867</td>\n",
       "      <td>15.652851</td>\n",
       "      <td>0.013521</td>\n",
       "      <td>0.542622</td>\n",
       "      <td>384.165785</td>\n",
       "      <td>0.442681</td>\n",
       "      <td>0.097884</td>\n",
       "      <td>56.440329</td>\n",
       "      <td>0.920635</td>\n",
       "    </tr>\n",
       "  </tbody>\n",
       "</table>\n",
       "</div>"
      ],
      "text/plain": [
       "                age      balance  campaign        day  defaulter   deposit  \\\n",
       "marital                                                                      \n",
       "divorced  47.420382  1365.987261  2.450637  15.670382   0.020701  0.484873   \n",
       "married   44.503161  1580.067596  2.620846  15.655860   0.014103  0.433296   \n",
       "single    33.046443  1453.644915  2.326867  15.652851   0.013521  0.542622   \n",
       "\n",
       "            duration   housing      loan      pdays      prev  \n",
       "marital                                                        \n",
       "divorced  396.062898  0.482484  0.153662  46.617038  0.651274  \n",
       "married   360.506727  0.489220  0.143783  49.387421  0.819420  \n",
       "single    384.165785  0.442681  0.097884  56.440329  0.920635  "
      ]
     },
     "execution_count": 17,
     "metadata": {},
     "output_type": "execute_result"
    }
   ],
   "source": [
    "data.pivot_table(numeric_data,index='marital')"
   ]
  },
  {
   "cell_type": "code",
   "execution_count": 18,
   "metadata": {},
   "outputs": [
    {
     "data": {
      "text/html": [
       "<div>\n",
       "<style scoped>\n",
       "    .dataframe tbody tr th:only-of-type {\n",
       "        vertical-align: middle;\n",
       "    }\n",
       "\n",
       "    .dataframe tbody tr th {\n",
       "        vertical-align: top;\n",
       "    }\n",
       "\n",
       "    .dataframe thead th {\n",
       "        text-align: right;\n",
       "    }\n",
       "</style>\n",
       "<table border=\"1\" class=\"dataframe\">\n",
       "  <thead>\n",
       "    <tr style=\"text-align: right;\">\n",
       "      <th></th>\n",
       "      <th>age</th>\n",
       "      <th>balance</th>\n",
       "      <th>campaign</th>\n",
       "      <th>day</th>\n",
       "      <th>defaulter</th>\n",
       "      <th>deposit</th>\n",
       "      <th>duration</th>\n",
       "      <th>housing</th>\n",
       "      <th>loan</th>\n",
       "      <th>pdays</th>\n",
       "      <th>prev</th>\n",
       "    </tr>\n",
       "    <tr>\n",
       "      <th>education</th>\n",
       "      <th></th>\n",
       "      <th></th>\n",
       "      <th></th>\n",
       "      <th></th>\n",
       "      <th></th>\n",
       "      <th></th>\n",
       "      <th></th>\n",
       "      <th></th>\n",
       "      <th></th>\n",
       "      <th></th>\n",
       "      <th></th>\n",
       "    </tr>\n",
       "  </thead>\n",
       "  <tbody>\n",
       "    <tr>\n",
       "      <th>primary</th>\n",
       "      <td>48.216942</td>\n",
       "      <td>1512.055785</td>\n",
       "      <td>2.655647</td>\n",
       "      <td>15.530303</td>\n",
       "      <td>0.019972</td>\n",
       "      <td>0.389118</td>\n",
       "      <td>381.336088</td>\n",
       "      <td>0.494490</td>\n",
       "      <td>0.136364</td>\n",
       "      <td>39.889118</td>\n",
       "      <td>0.676997</td>\n",
       "    </tr>\n",
       "    <tr>\n",
       "      <th>secondary</th>\n",
       "      <td>40.111885</td>\n",
       "      <td>1285.566585</td>\n",
       "      <td>2.466943</td>\n",
       "      <td>15.592390</td>\n",
       "      <td>0.014692</td>\n",
       "      <td>0.448107</td>\n",
       "      <td>373.719721</td>\n",
       "      <td>0.535694</td>\n",
       "      <td>0.158222</td>\n",
       "      <td>53.307591</td>\n",
       "      <td>0.820494</td>\n",
       "    </tr>\n",
       "    <tr>\n",
       "      <th>tertiary</th>\n",
       "      <td>39.547964</td>\n",
       "      <td>1828.708031</td>\n",
       "      <td>2.488288</td>\n",
       "      <td>15.754044</td>\n",
       "      <td>0.012549</td>\n",
       "      <td>0.540714</td>\n",
       "      <td>368.888455</td>\n",
       "      <td>0.390686</td>\n",
       "      <td>0.097602</td>\n",
       "      <td>52.800613</td>\n",
       "      <td>0.925544</td>\n",
       "    </tr>\n",
       "    <tr>\n",
       "      <th>unknown</th>\n",
       "      <td>45.291667</td>\n",
       "      <td>1729.358333</td>\n",
       "      <td>2.679167</td>\n",
       "      <td>16.020833</td>\n",
       "      <td>0.014583</td>\n",
       "      <td>0.510417</td>\n",
       "      <td>349.460417</td>\n",
       "      <td>0.347917</td>\n",
       "      <td>0.052083</td>\n",
       "      <td>52.000000</td>\n",
       "      <td>0.722917</td>\n",
       "    </tr>\n",
       "  </tbody>\n",
       "</table>\n",
       "</div>"
      ],
      "text/plain": [
       "                 age      balance  campaign        day  defaulter   deposit  \\\n",
       "education                                                                     \n",
       "primary    48.216942  1512.055785  2.655647  15.530303   0.019972  0.389118   \n",
       "secondary  40.111885  1285.566585  2.466943  15.592390   0.014692  0.448107   \n",
       "tertiary   39.547964  1828.708031  2.488288  15.754044   0.012549  0.540714   \n",
       "unknown    45.291667  1729.358333  2.679167  16.020833   0.014583  0.510417   \n",
       "\n",
       "             duration   housing      loan      pdays      prev  \n",
       "education                                                       \n",
       "primary    381.336088  0.494490  0.136364  39.889118  0.676997  \n",
       "secondary  373.719721  0.535694  0.158222  53.307591  0.820494  \n",
       "tertiary   368.888455  0.390686  0.097602  52.800613  0.925544  \n",
       "unknown    349.460417  0.347917  0.052083  52.000000  0.722917  "
      ]
     },
     "execution_count": 18,
     "metadata": {},
     "output_type": "execute_result"
    }
   ],
   "source": [
    "data.pivot_table(numeric_data,index='education')"
   ]
  },
  {
   "cell_type": "code",
   "execution_count": 19,
   "metadata": {},
   "outputs": [
    {
     "data": {
      "text/plain": [
       "0    5699\n",
       "1    5128\n",
       "Name: deposit, dtype: int64"
      ]
     },
     "execution_count": 19,
     "metadata": {},
     "output_type": "execute_result"
    }
   ],
   "source": [
    "data['deposit'].value_counts()"
   ]
  },
  {
   "cell_type": "markdown",
   "metadata": {},
   "source": [
    "# EDA"
   ]
  },
  {
   "cell_type": "code",
   "execution_count": 20,
   "metadata": {},
   "outputs": [],
   "source": [
    "import matplotlib.pyplot as plt\n",
    "%matplotlib inline"
   ]
  },
  {
   "cell_type": "code",
   "execution_count": 21,
   "metadata": {},
   "outputs": [
    {
     "data": {
      "text/plain": [
       "Text(0.5, 0, 'balance')"
      ]
     },
     "execution_count": 21,
     "metadata": {},
     "output_type": "execute_result"
    },
    {
     "data": {
      "image/png": "[encoded data removed]",
      "text/plain": [
       "<Figure size 640x480 with 1 Axes>"
      ]
     },
     "metadata": {},
     "output_type": "display_data"
    }
   ],
   "source": [
    "data[data['loan']==0]['balance'].plot.hist(bins=30,color='blue', label='loan=0')\n",
    "data[data['loan']==1]['balance'].plot.hist(bins=30, color='green', label='loan=1')\n",
    "plt.legend(fontsize=15)\n",
    "plt.xlabel(\"balance\")"
   ]
  },
  {
   "cell_type": "code",
   "execution_count": 22,
   "metadata": {},
   "outputs": [
    {
     "data": {
      "text/plain": [
       "Text(0.5, 0, 'age')"
      ]
     },
     "execution_count": 22,
     "metadata": {},
     "output_type": "execute_result"
    },
    {
     "data": {
      "image/png": "[encoded data removed]",
      "text/plain": [
       "<Figure size 640x480 with 1 Axes>"
      ]
     },
     "metadata": {},
     "output_type": "display_data"
    }
   ],
   "source": [
    "data[data['housing']==0]['age'].plot.hist(bins=30,color='blue', label='housing=0')\n",
    "data[data['housing']==1]['age'].plot.hist(bins=30, color='green', label='housing=1')\n",
    "plt.legend(fontsize=15)\n",
    "plt.xlabel(\"age\")"
   ]
  },
  {
   "cell_type": "code",
   "execution_count": 23,
   "metadata": {},
   "outputs": [
    {
     "data": {
      "text/plain": [
       "Text(0.5, 0, 'duration')"
      ]
     },
     "execution_count": 23,
     "metadata": {},
     "output_type": "execute_result"
    },
    {
     "data": {
      "image/png": "[encoded data removed]",
      "text/plain": [
       "<Figure size 640x480 with 1 Axes>"
      ]
     },
     "metadata": {},
     "output_type": "display_data"
    }
   ],
   "source": [
    "data[data['deposit']==0]['duration'].plot.hist(bins=30,color='blue', label='deposit=0')\n",
    "data[data['deposit']==1]['duration'].plot.hist(bins=30, color='green', label='deposit=1')\n",
    "plt.legend(fontsize=15)\n",
    "plt.xlabel(\"duration\")"
   ]
  },
  {
   "cell_type": "code",
   "execution_count": 24,
   "metadata": {},
   "outputs": [
    {
     "data": {
      "text/plain": [
       "Text(0, 0.5, 'balance')"
      ]
     },
     "execution_count": 24,
     "metadata": {},
     "output_type": "execute_result"
    },
    {
     "data": {
      "image/png": "[encoded data removed]",
      "text/plain": [
       "<Figure size 640x480 with 1 Axes>"
      ]
     },
     "metadata": {},
     "output_type": "display_data"
    }
   ],
   "source": [
    "%matplotlib inline\n",
    "plt.scatter(data[\"age\"],data[\"balance\"],color=\"c\")\n",
    "plt.xlabel(\"age\")\n",
    "plt.ylabel(\"balance\")"
   ]
  },
  {
   "cell_type": "code",
   "execution_count": 25,
   "metadata": {},
   "outputs": [
    {
     "data": {
      "text/plain": [
       "<Axes: >"
      ]
     },
     "execution_count": 25,
     "metadata": {},
     "output_type": "execute_result"
    },
    {
     "data": {
      "image/png": "[encoded data removed]",
      "text/plain": [
       "<Figure size 640x480 with 2 Axes>"
      ]
     },
     "metadata": {},
     "output_type": "display_data"
    }
   ],
   "source": [
    "import seaborn as sns\n",
    "sns.heatmap(numeric_data.corr())"
   ]
  },
  {
   "cell_type": "code",
   "execution_count": 26,
   "metadata": {},
   "outputs": [
    {
     "data": {
      "text/plain": [
       "Text(0.5, 0, 'month')"
      ]
     },
     "execution_count": 26,
     "metadata": {},
     "output_type": "execute_result"
    },
    {
     "data": {
      "image/png": "[encoded data removed]",
      "text/plain": [
       "<Figure size 1000x600 with 1 Axes>"
      ]
     },
     "metadata": {},
     "output_type": "display_data"
    }
   ],
   "source": [
    "plt.figure(figsize=(10,6))\n",
    "sns.countplot(x='month',hue='deposit', data=data,palette='Set1')\n",
    "plt.title(\"Bar chart of last contact month colored by deposit status\", fontsize=17)\n",
    "plt.xlabel(\"month\", fontsize=15)"
   ]
  },
  {
   "cell_type": "code",
   "execution_count": 27,
   "metadata": {},
   "outputs": [
    {
     "data": {
      "text/plain": [
       "Text(0.5, 0, 'contact')"
      ]
     },
     "execution_count": 27,
     "metadata": {},
     "output_type": "execute_result"
    },
    {
     "data": {
      "image/png": "[encoded data removed]",
      "text/plain": [
       "<Figure size 1000x600 with 1 Axes>"
      ]
     },
     "metadata": {},
     "output_type": "display_data"
    }
   ],
   "source": [
    "plt.figure(figsize=(10,6))\n",
    "sns.countplot(x='contact',hue='deposit', data=data,palette='Set1')\n",
    "plt.title(\"Bar chart of last contact month colored by deposit status\", fontsize=17)\n",
    "plt.xlabel(\"contact\", fontsize=15)"
   ]
  },
  {
   "cell_type": "code",
   "execution_count": 28,
   "metadata": {},
   "outputs": [
    {
     "data": {
      "text/plain": [
       "Text(0.5, 0, 'marital')"
      ]
     },
     "execution_count": 28,
     "metadata": {},
     "output_type": "execute_result"
    },
    {
     "data": {
      "image/png": "[encoded data removed]",
      "text/plain": [
       "<Figure size 1000x600 with 1 Axes>"
      ]
     },
     "metadata": {},
     "output_type": "display_data"
    }
   ],
   "source": [
    "plt.figure(figsize=(10,6))\n",
    "sns.countplot(x='marital',hue='deposit', data=data,palette='Set1')\n",
    "plt.title(\"Bar chart of Marial status colored by deposit status\", fontsize=17)\n",
    "plt.xlabel(\"marital\", fontsize=15)"
   ]
  },
  {
   "cell_type": "code",
   "execution_count": 29,
   "metadata": {},
   "outputs": [
    {
     "data": {
      "text/plain": [
       "Text(0.5, 0, 'poutcome')"
      ]
     },
     "execution_count": 29,
     "metadata": {},
     "output_type": "execute_result"
    },
    {
     "data": {
      "image/png": "[encoded data removed]",
      "text/plain": [
       "<Figure size 1000x600 with 1 Axes>"
      ]
     },
     "metadata": {},
     "output_type": "display_data"
    }
   ],
   "source": [
    "plt.figure(figsize=(10,6))\n",
    "sns.countplot(x='poutcome',hue='deposit', data=data,palette='Set1')\n",
    "plt.title(\"Bar chart of poutcome colored by deposit status\", fontsize=17)\n",
    "plt.xlabel(\"poutcome\", fontsize=15)"
   ]
  },
  {
   "cell_type": "code",
   "execution_count": 30,
   "metadata": {},
   "outputs": [
    {
     "data": {
      "text/plain": [
       "Text(0.5, 0, 'education')"
      ]
     },
     "execution_count": 30,
     "metadata": {},
     "output_type": "execute_result"
    },
    {
     "data": {
      "image/png": "[encoded data removed]",
      "text/plain": [
       "<Figure size 1000x600 with 1 Axes>"
      ]
     },
     "metadata": {},
     "output_type": "display_data"
    }
   ],
   "source": [
    "plt.figure(figsize=(10,6))\n",
    "sns.countplot(x='education',hue='deposit', data=data,palette='Set1')\n",
    "plt.title(\"Bar chart of educational status colored by deposit status\", fontsize=17)\n",
    "plt.xlabel(\"education\", fontsize=15)"
   ]
  },
  {
   "cell_type": "code",
   "execution_count": 31,
   "metadata": {},
   "outputs": [
    {
     "data": {
      "text/plain": [
       "Text(0.5, 0, 'job')"
      ]
     },
     "execution_count": 31,
     "metadata": {},
     "output_type": "execute_result"
    },
    {
     "data": {
      "image/png": "[encoded data removed]",
      "text/plain": [
       "<Figure size 1500x600 with 1 Axes>"
      ]
     },
     "metadata": {},
     "output_type": "display_data"
    }
   ],
   "source": [
    "plt.figure(figsize=(15,6))\n",
    "sns.countplot(x='job',hue='deposit', data=data,palette='Set1')\n",
    "plt.title(\"Bar chart of last contact month colored by deposit status\", fontsize=17)\n",
    "plt.xlabel(\"job\", fontsize=15)"
   ]
  },
  {
   "cell_type": "code",
   "execution_count": 32,
   "metadata": {},
   "outputs": [
    {
     "data": {
      "text/plain": [
       "Text(0, 0.5, 'Duration')"
      ]
     },
     "execution_count": 32,
     "metadata": {},
     "output_type": "execute_result"
    },
    {
     "data": {
      "image/png": "[encoded data removed]",
      "text/plain": [
       "<Figure size 640x480 with 1 Axes>"
      ]
     },
     "metadata": {},
     "output_type": "display_data"
    }
   ],
   "source": [
    "sns.boxplot(x=data['loan'],y=data['duration'])\n",
    "plt.xlabel(\"Loan\")\n",
    "plt.ylabel(\"Duration\")"
   ]
  },
  {
   "cell_type": "code",
   "execution_count": 33,
   "metadata": {
    "scrolled": true
   },
   "outputs": [
    {
     "data": {
      "text/html": [
       "<div>\n",
       "<style scoped>\n",
       "    .dataframe tbody tr th:only-of-type {\n",
       "        vertical-align: middle;\n",
       "    }\n",
       "\n",
       "    .dataframe tbody tr th {\n",
       "        vertical-align: top;\n",
       "    }\n",
       "\n",
       "    .dataframe thead th {\n",
       "        text-align: right;\n",
       "    }\n",
       "</style>\n",
       "<table border=\"1\" class=\"dataframe\">\n",
       "  <thead>\n",
       "    <tr style=\"text-align: right;\">\n",
       "      <th></th>\n",
       "      <th>age</th>\n",
       "      <th>job</th>\n",
       "      <th>marital</th>\n",
       "      <th>education</th>\n",
       "      <th>defaulter</th>\n",
       "      <th>balance</th>\n",
       "      <th>housing</th>\n",
       "      <th>loan</th>\n",
       "      <th>contact</th>\n",
       "      <th>day</th>\n",
       "      <th>month</th>\n",
       "      <th>duration</th>\n",
       "      <th>campaign</th>\n",
       "      <th>pdays</th>\n",
       "      <th>prev</th>\n",
       "      <th>poutcome</th>\n",
       "      <th>deposit</th>\n",
       "    </tr>\n",
       "  </thead>\n",
       "  <tbody>\n",
       "    <tr>\n",
       "      <th>0</th>\n",
       "      <td>39</td>\n",
       "      <td>blue-collar</td>\n",
       "      <td>married</td>\n",
       "      <td>primary</td>\n",
       "      <td>0</td>\n",
       "      <td>-119</td>\n",
       "      <td>0</td>\n",
       "      <td>0</td>\n",
       "      <td>unknown</td>\n",
       "      <td>17</td>\n",
       "      <td>jun</td>\n",
       "      <td>135</td>\n",
       "      <td>6</td>\n",
       "      <td>0</td>\n",
       "      <td>0</td>\n",
       "      <td>unknown</td>\n",
       "      <td>0</td>\n",
       "    </tr>\n",
       "    <tr>\n",
       "      <th>1</th>\n",
       "      <td>31</td>\n",
       "      <td>technician</td>\n",
       "      <td>single</td>\n",
       "      <td>secondary</td>\n",
       "      <td>0</td>\n",
       "      <td>373</td>\n",
       "      <td>0</td>\n",
       "      <td>0</td>\n",
       "      <td>cellular</td>\n",
       "      <td>22</td>\n",
       "      <td>aug</td>\n",
       "      <td>346</td>\n",
       "      <td>5</td>\n",
       "      <td>0</td>\n",
       "      <td>0</td>\n",
       "      <td>unknown</td>\n",
       "      <td>0</td>\n",
       "    </tr>\n",
       "    <tr>\n",
       "      <th>2</th>\n",
       "      <td>30</td>\n",
       "      <td>services</td>\n",
       "      <td>married</td>\n",
       "      <td>secondary</td>\n",
       "      <td>0</td>\n",
       "      <td>292</td>\n",
       "      <td>1</td>\n",
       "      <td>1</td>\n",
       "      <td>cellular</td>\n",
       "      <td>15</td>\n",
       "      <td>apr</td>\n",
       "      <td>651</td>\n",
       "      <td>4</td>\n",
       "      <td>0</td>\n",
       "      <td>0</td>\n",
       "      <td>unknown</td>\n",
       "      <td>0</td>\n",
       "    </tr>\n",
       "    <tr>\n",
       "      <th>3</th>\n",
       "      <td>55</td>\n",
       "      <td>technician</td>\n",
       "      <td>divorced</td>\n",
       "      <td>secondary</td>\n",
       "      <td>1</td>\n",
       "      <td>284</td>\n",
       "      <td>1</td>\n",
       "      <td>0</td>\n",
       "      <td>cellular</td>\n",
       "      <td>7</td>\n",
       "      <td>aug</td>\n",
       "      <td>78</td>\n",
       "      <td>2</td>\n",
       "      <td>0</td>\n",
       "      <td>0</td>\n",
       "      <td>unknown</td>\n",
       "      <td>0</td>\n",
       "    </tr>\n",
       "    <tr>\n",
       "      <th>4</th>\n",
       "      <td>32</td>\n",
       "      <td>management</td>\n",
       "      <td>single</td>\n",
       "      <td>tertiary</td>\n",
       "      <td>0</td>\n",
       "      <td>311</td>\n",
       "      <td>0</td>\n",
       "      <td>0</td>\n",
       "      <td>unknown</td>\n",
       "      <td>12</td>\n",
       "      <td>may</td>\n",
       "      <td>757</td>\n",
       "      <td>2</td>\n",
       "      <td>0</td>\n",
       "      <td>0</td>\n",
       "      <td>unknown</td>\n",
       "      <td>1</td>\n",
       "    </tr>\n",
       "  </tbody>\n",
       "</table>\n",
       "</div>"
      ],
      "text/plain": [
       "   age          job   marital  education  defaulter  balance  housing  loan  \\\n",
       "0   39  blue-collar   married    primary          0     -119        0     0   \n",
       "1   31   technician    single  secondary          0      373        0     0   \n",
       "2   30     services   married  secondary          0      292        1     1   \n",
       "3   55   technician  divorced  secondary          1      284        1     0   \n",
       "4   32   management    single   tertiary          0      311        0     0   \n",
       "\n",
       "    contact  day month  duration  campaign  pdays  prev poutcome  deposit  \n",
       "0   unknown   17   jun       135         6      0     0  unknown        0  \n",
       "1  cellular   22   aug       346         5      0     0  unknown        0  \n",
       "2  cellular   15   apr       651         4      0     0  unknown        0  \n",
       "3  cellular    7   aug        78         2      0     0  unknown        0  \n",
       "4   unknown   12   may       757         2      0     0  unknown        1  "
      ]
     },
     "execution_count": 33,
     "metadata": {},
     "output_type": "execute_result"
    }
   ],
   "source": [
    "data[\"pdays\"].replace(-1,int(0),inplace=True)\n",
    "data.head()"
   ]
  },
  {
   "cell_type": "code",
   "execution_count": 34,
   "metadata": {},
   "outputs": [
    {
     "data": {
      "text/html": [
       "<div>\n",
       "<style scoped>\n",
       "    .dataframe tbody tr th:only-of-type {\n",
       "        vertical-align: middle;\n",
       "    }\n",
       "\n",
       "    .dataframe tbody tr th {\n",
       "        vertical-align: top;\n",
       "    }\n",
       "\n",
       "    .dataframe thead th {\n",
       "        text-align: right;\n",
       "    }\n",
       "</style>\n",
       "<table border=\"1\" class=\"dataframe\">\n",
       "  <thead>\n",
       "    <tr style=\"text-align: right;\">\n",
       "      <th></th>\n",
       "      <th>age</th>\n",
       "      <th>job</th>\n",
       "      <th>marital</th>\n",
       "      <th>education</th>\n",
       "      <th>defaulter</th>\n",
       "      <th>balance</th>\n",
       "      <th>contact</th>\n",
       "      <th>day</th>\n",
       "      <th>month</th>\n",
       "      <th>duration</th>\n",
       "      <th>pdays</th>\n",
       "      <th>prev</th>\n",
       "      <th>poutcome</th>\n",
       "      <th>deposit</th>\n",
       "    </tr>\n",
       "  </thead>\n",
       "  <tbody>\n",
       "    <tr>\n",
       "      <th>0</th>\n",
       "      <td>39</td>\n",
       "      <td>blue-collar</td>\n",
       "      <td>married</td>\n",
       "      <td>primary</td>\n",
       "      <td>0</td>\n",
       "      <td>-119</td>\n",
       "      <td>unknown</td>\n",
       "      <td>17</td>\n",
       "      <td>jun</td>\n",
       "      <td>135</td>\n",
       "      <td>0</td>\n",
       "      <td>0</td>\n",
       "      <td>unknown</td>\n",
       "      <td>0</td>\n",
       "    </tr>\n",
       "    <tr>\n",
       "      <th>1</th>\n",
       "      <td>31</td>\n",
       "      <td>technician</td>\n",
       "      <td>single</td>\n",
       "      <td>secondary</td>\n",
       "      <td>0</td>\n",
       "      <td>373</td>\n",
       "      <td>cellular</td>\n",
       "      <td>22</td>\n",
       "      <td>aug</td>\n",
       "      <td>346</td>\n",
       "      <td>0</td>\n",
       "      <td>0</td>\n",
       "      <td>unknown</td>\n",
       "      <td>0</td>\n",
       "    </tr>\n",
       "    <tr>\n",
       "      <th>2</th>\n",
       "      <td>30</td>\n",
       "      <td>services</td>\n",
       "      <td>married</td>\n",
       "      <td>secondary</td>\n",
       "      <td>0</td>\n",
       "      <td>292</td>\n",
       "      <td>cellular</td>\n",
       "      <td>15</td>\n",
       "      <td>apr</td>\n",
       "      <td>651</td>\n",
       "      <td>0</td>\n",
       "      <td>0</td>\n",
       "      <td>unknown</td>\n",
       "      <td>0</td>\n",
       "    </tr>\n",
       "    <tr>\n",
       "      <th>3</th>\n",
       "      <td>55</td>\n",
       "      <td>technician</td>\n",
       "      <td>divorced</td>\n",
       "      <td>secondary</td>\n",
       "      <td>1</td>\n",
       "      <td>284</td>\n",
       "      <td>cellular</td>\n",
       "      <td>7</td>\n",
       "      <td>aug</td>\n",
       "      <td>78</td>\n",
       "      <td>0</td>\n",
       "      <td>0</td>\n",
       "      <td>unknown</td>\n",
       "      <td>0</td>\n",
       "    </tr>\n",
       "    <tr>\n",
       "      <th>4</th>\n",
       "      <td>32</td>\n",
       "      <td>management</td>\n",
       "      <td>single</td>\n",
       "      <td>tertiary</td>\n",
       "      <td>0</td>\n",
       "      <td>311</td>\n",
       "      <td>unknown</td>\n",
       "      <td>12</td>\n",
       "      <td>may</td>\n",
       "      <td>757</td>\n",
       "      <td>0</td>\n",
       "      <td>0</td>\n",
       "      <td>unknown</td>\n",
       "      <td>1</td>\n",
       "    </tr>\n",
       "  </tbody>\n",
       "</table>\n",
       "</div>"
      ],
      "text/plain": [
       "   age          job   marital  education  defaulter  balance   contact  day  \\\n",
       "0   39  blue-collar   married    primary          0     -119   unknown   17   \n",
       "1   31   technician    single  secondary          0      373  cellular   22   \n",
       "2   30     services   married  secondary          0      292  cellular   15   \n",
       "3   55   technician  divorced  secondary          1      284  cellular    7   \n",
       "4   32   management    single   tertiary          0      311   unknown   12   \n",
       "\n",
       "  month  duration  pdays  prev poutcome  deposit  \n",
       "0   jun       135      0     0  unknown        0  \n",
       "1   aug       346      0     0  unknown        0  \n",
       "2   apr       651      0     0  unknown        0  \n",
       "3   aug        78      0     0  unknown        0  \n",
       "4   may       757      0     0  unknown        1  "
      ]
     },
     "execution_count": 34,
     "metadata": {},
     "output_type": "execute_result"
    }
   ],
   "source": [
    "data = data.drop(columns=['loan', 'housing', 'campaign'])\n",
    "data.head()"
   ]
  },
  {
   "cell_type": "code",
   "execution_count": 35,
   "metadata": {},
   "outputs": [
    {
     "data": {
      "text/html": [
       "<div>\n",
       "<style scoped>\n",
       "    .dataframe tbody tr th:only-of-type {\n",
       "        vertical-align: middle;\n",
       "    }\n",
       "\n",
       "    .dataframe tbody tr th {\n",
       "        vertical-align: top;\n",
       "    }\n",
       "\n",
       "    .dataframe thead th {\n",
       "        text-align: right;\n",
       "    }\n",
       "</style>\n",
       "<table border=\"1\" class=\"dataframe\">\n",
       "  <thead>\n",
       "    <tr style=\"text-align: right;\">\n",
       "      <th></th>\n",
       "      <th>age</th>\n",
       "      <th>job</th>\n",
       "      <th>marital</th>\n",
       "      <th>education</th>\n",
       "      <th>defaulter</th>\n",
       "      <th>balance</th>\n",
       "      <th>contact</th>\n",
       "      <th>day</th>\n",
       "      <th>month</th>\n",
       "      <th>duration</th>\n",
       "      <th>pdays</th>\n",
       "      <th>prev</th>\n",
       "      <th>poutcome</th>\n",
       "      <th>deposit</th>\n",
       "    </tr>\n",
       "  </thead>\n",
       "  <tbody>\n",
       "    <tr>\n",
       "      <th>0</th>\n",
       "      <td>39</td>\n",
       "      <td>1</td>\n",
       "      <td>1</td>\n",
       "      <td>0</td>\n",
       "      <td>0</td>\n",
       "      <td>-119</td>\n",
       "      <td>2</td>\n",
       "      <td>17</td>\n",
       "      <td>6</td>\n",
       "      <td>135</td>\n",
       "      <td>0</td>\n",
       "      <td>0</td>\n",
       "      <td>3</td>\n",
       "      <td>0</td>\n",
       "    </tr>\n",
       "    <tr>\n",
       "      <th>1</th>\n",
       "      <td>31</td>\n",
       "      <td>9</td>\n",
       "      <td>2</td>\n",
       "      <td>1</td>\n",
       "      <td>0</td>\n",
       "      <td>373</td>\n",
       "      <td>0</td>\n",
       "      <td>22</td>\n",
       "      <td>1</td>\n",
       "      <td>346</td>\n",
       "      <td>0</td>\n",
       "      <td>0</td>\n",
       "      <td>3</td>\n",
       "      <td>0</td>\n",
       "    </tr>\n",
       "    <tr>\n",
       "      <th>2</th>\n",
       "      <td>30</td>\n",
       "      <td>7</td>\n",
       "      <td>1</td>\n",
       "      <td>1</td>\n",
       "      <td>0</td>\n",
       "      <td>292</td>\n",
       "      <td>0</td>\n",
       "      <td>15</td>\n",
       "      <td>0</td>\n",
       "      <td>651</td>\n",
       "      <td>0</td>\n",
       "      <td>0</td>\n",
       "      <td>3</td>\n",
       "      <td>0</td>\n",
       "    </tr>\n",
       "    <tr>\n",
       "      <th>3</th>\n",
       "      <td>55</td>\n",
       "      <td>9</td>\n",
       "      <td>0</td>\n",
       "      <td>1</td>\n",
       "      <td>1</td>\n",
       "      <td>284</td>\n",
       "      <td>0</td>\n",
       "      <td>7</td>\n",
       "      <td>1</td>\n",
       "      <td>78</td>\n",
       "      <td>0</td>\n",
       "      <td>0</td>\n",
       "      <td>3</td>\n",
       "      <td>0</td>\n",
       "    </tr>\n",
       "    <tr>\n",
       "      <th>4</th>\n",
       "      <td>32</td>\n",
       "      <td>4</td>\n",
       "      <td>2</td>\n",
       "      <td>2</td>\n",
       "      <td>0</td>\n",
       "      <td>311</td>\n",
       "      <td>2</td>\n",
       "      <td>12</td>\n",
       "      <td>8</td>\n",
       "      <td>757</td>\n",
       "      <td>0</td>\n",
       "      <td>0</td>\n",
       "      <td>3</td>\n",
       "      <td>1</td>\n",
       "    </tr>\n",
       "    <tr>\n",
       "      <th>...</th>\n",
       "      <td>...</td>\n",
       "      <td>...</td>\n",
       "      <td>...</td>\n",
       "      <td>...</td>\n",
       "      <td>...</td>\n",
       "      <td>...</td>\n",
       "      <td>...</td>\n",
       "      <td>...</td>\n",
       "      <td>...</td>\n",
       "      <td>...</td>\n",
       "      <td>...</td>\n",
       "      <td>...</td>\n",
       "      <td>...</td>\n",
       "      <td>...</td>\n",
       "    </tr>\n",
       "    <tr>\n",
       "      <th>10822</th>\n",
       "      <td>47</td>\n",
       "      <td>4</td>\n",
       "      <td>1</td>\n",
       "      <td>2</td>\n",
       "      <td>0</td>\n",
       "      <td>761</td>\n",
       "      <td>0</td>\n",
       "      <td>11</td>\n",
       "      <td>5</td>\n",
       "      <td>80</td>\n",
       "      <td>0</td>\n",
       "      <td>0</td>\n",
       "      <td>3</td>\n",
       "      <td>0</td>\n",
       "    </tr>\n",
       "    <tr>\n",
       "      <th>10823</th>\n",
       "      <td>28</td>\n",
       "      <td>6</td>\n",
       "      <td>2</td>\n",
       "      <td>2</td>\n",
       "      <td>0</td>\n",
       "      <td>159</td>\n",
       "      <td>0</td>\n",
       "      <td>16</td>\n",
       "      <td>9</td>\n",
       "      <td>449</td>\n",
       "      <td>33</td>\n",
       "      <td>4</td>\n",
       "      <td>2</td>\n",
       "      <td>1</td>\n",
       "    </tr>\n",
       "    <tr>\n",
       "      <th>10824</th>\n",
       "      <td>35</td>\n",
       "      <td>9</td>\n",
       "      <td>1</td>\n",
       "      <td>1</td>\n",
       "      <td>0</td>\n",
       "      <td>1144</td>\n",
       "      <td>0</td>\n",
       "      <td>20</td>\n",
       "      <td>1</td>\n",
       "      <td>197</td>\n",
       "      <td>0</td>\n",
       "      <td>0</td>\n",
       "      <td>3</td>\n",
       "      <td>0</td>\n",
       "    </tr>\n",
       "    <tr>\n",
       "      <th>10825</th>\n",
       "      <td>51</td>\n",
       "      <td>5</td>\n",
       "      <td>1</td>\n",
       "      <td>2</td>\n",
       "      <td>0</td>\n",
       "      <td>746</td>\n",
       "      <td>0</td>\n",
       "      <td>25</td>\n",
       "      <td>1</td>\n",
       "      <td>372</td>\n",
       "      <td>0</td>\n",
       "      <td>0</td>\n",
       "      <td>3</td>\n",
       "      <td>1</td>\n",
       "    </tr>\n",
       "    <tr>\n",
       "      <th>10826</th>\n",
       "      <td>30</td>\n",
       "      <td>4</td>\n",
       "      <td>2</td>\n",
       "      <td>2</td>\n",
       "      <td>0</td>\n",
       "      <td>2</td>\n",
       "      <td>0</td>\n",
       "      <td>23</td>\n",
       "      <td>7</td>\n",
       "      <td>269</td>\n",
       "      <td>0</td>\n",
       "      <td>0</td>\n",
       "      <td>3</td>\n",
       "      <td>0</td>\n",
       "    </tr>\n",
       "  </tbody>\n",
       "</table>\n",
       "<p>10827 rows × 14 columns</p>\n",
       "</div>"
      ],
      "text/plain": [
       "       age  job  marital  education  defaulter  balance  contact  day  month  \\\n",
       "0       39    1        1          0          0     -119        2   17      6   \n",
       "1       31    9        2          1          0      373        0   22      1   \n",
       "2       30    7        1          1          0      292        0   15      0   \n",
       "3       55    9        0          1          1      284        0    7      1   \n",
       "4       32    4        2          2          0      311        2   12      8   \n",
       "...    ...  ...      ...        ...        ...      ...      ...  ...    ...   \n",
       "10822   47    4        1          2          0      761        0   11      5   \n",
       "10823   28    6        2          2          0      159        0   16      9   \n",
       "10824   35    9        1          1          0     1144        0   20      1   \n",
       "10825   51    5        1          2          0      746        0   25      1   \n",
       "10826   30    4        2          2          0        2        0   23      7   \n",
       "\n",
       "       duration  pdays  prev  poutcome  deposit  \n",
       "0           135      0     0         3        0  \n",
       "1           346      0     0         3        0  \n",
       "2           651      0     0         3        0  \n",
       "3            78      0     0         3        0  \n",
       "4           757      0     0         3        1  \n",
       "...         ...    ...   ...       ...      ...  \n",
       "10822        80      0     0         3        0  \n",
       "10823       449     33     4         2        1  \n",
       "10824       197      0     0         3        0  \n",
       "10825       372      0     0         3        1  \n",
       "10826       269      0     0         3        0  \n",
       "\n",
       "[10827 rows x 14 columns]"
      ]
     },
     "execution_count": 35,
     "metadata": {},
     "output_type": "execute_result"
    }
   ],
   "source": [
    "from sklearn.preprocessing import LabelEncoder\n",
    "le=LabelEncoder()\n",
    "for col in data.columns:\n",
    "    # Check if the column contains non-numeric data before applying LabelEncoder\n",
    "    if data[col].dtype == 'O':  # 'O' stands for Object data type (typically used for strings)\n",
    "        data[col] = le.fit_transform(data[col])\n",
    "data"
   ]
  },
  {
   "cell_type": "code",
   "execution_count": 36,
   "metadata": {},
   "outputs": [
    {
     "data": {
      "text/plain": [
       "array([ 1,  9,  7,  4,  0,  2, 10,  6,  5,  3,  8, 11])"
      ]
     },
     "execution_count": 36,
     "metadata": {},
     "output_type": "execute_result"
    }
   ],
   "source": [
    "data['job'].unique()"
   ]
  },
  {
   "cell_type": "code",
   "execution_count": 37,
   "metadata": {},
   "outputs": [
    {
     "data": {
      "text/plain": [
       "array([1, 2, 0])"
      ]
     },
     "execution_count": 37,
     "metadata": {},
     "output_type": "execute_result"
    }
   ],
   "source": [
    "data['marital'].unique()"
   ]
  },
  {
   "cell_type": "code",
   "execution_count": 38,
   "metadata": {},
   "outputs": [
    {
     "data": {
      "text/plain": [
       "array([0, 1, 2, 3])"
      ]
     },
     "execution_count": 38,
     "metadata": {},
     "output_type": "execute_result"
    }
   ],
   "source": [
    "data['education'].unique()"
   ]
  },
  {
   "cell_type": "code",
   "execution_count": 39,
   "metadata": {},
   "outputs": [
    {
     "data": {
      "text/plain": [
       "array([2, 0, 1])"
      ]
     },
     "execution_count": 39,
     "metadata": {},
     "output_type": "execute_result"
    }
   ],
   "source": [
    "data['contact'].unique()"
   ]
  },
  {
   "cell_type": "code",
   "execution_count": 40,
   "metadata": {},
   "outputs": [
    {
     "data": {
      "text/plain": [
       "array([ 6,  1,  0,  8,  5,  7, 10,  4,  9, 11,  3,  2])"
      ]
     },
     "execution_count": 40,
     "metadata": {},
     "output_type": "execute_result"
    }
   ],
   "source": [
    "data['month'].unique()"
   ]
  },
  {
   "cell_type": "code",
   "execution_count": 41,
   "metadata": {},
   "outputs": [
    {
     "data": {
      "text/plain": [
       "array([3, 0, 1, 2])"
      ]
     },
     "execution_count": 41,
     "metadata": {},
     "output_type": "execute_result"
    }
   ],
   "source": [
    "data['poutcome'].unique()"
   ]
  },
  {
   "cell_type": "code",
   "execution_count": 42,
   "metadata": {},
   "outputs": [],
   "source": [
    "X=data.drop(columns=[\"day\",\"deposit\"])\n",
    "Y=data[\"deposit\"]"
   ]
  },
  {
   "cell_type": "code",
   "execution_count": 43,
   "metadata": {},
   "outputs": [
    {
     "data": {
      "text/html": [
       "<div>\n",
       "<style scoped>\n",
       "    .dataframe tbody tr th:only-of-type {\n",
       "        vertical-align: middle;\n",
       "    }\n",
       "\n",
       "    .dataframe tbody tr th {\n",
       "        vertical-align: top;\n",
       "    }\n",
       "\n",
       "    .dataframe thead th {\n",
       "        text-align: right;\n",
       "    }\n",
       "</style>\n",
       "<table border=\"1\" class=\"dataframe\">\n",
       "  <thead>\n",
       "    <tr style=\"text-align: right;\">\n",
       "      <th></th>\n",
       "      <th>age</th>\n",
       "      <th>job</th>\n",
       "      <th>marital</th>\n",
       "      <th>education</th>\n",
       "      <th>defaulter</th>\n",
       "      <th>balance</th>\n",
       "      <th>contact</th>\n",
       "      <th>month</th>\n",
       "      <th>duration</th>\n",
       "      <th>pdays</th>\n",
       "      <th>prev</th>\n",
       "      <th>poutcome</th>\n",
       "    </tr>\n",
       "  </thead>\n",
       "  <tbody>\n",
       "    <tr>\n",
       "      <th>0</th>\n",
       "      <td>39</td>\n",
       "      <td>1</td>\n",
       "      <td>1</td>\n",
       "      <td>0</td>\n",
       "      <td>0</td>\n",
       "      <td>-119</td>\n",
       "      <td>2</td>\n",
       "      <td>6</td>\n",
       "      <td>135</td>\n",
       "      <td>0</td>\n",
       "      <td>0</td>\n",
       "      <td>3</td>\n",
       "    </tr>\n",
       "    <tr>\n",
       "      <th>1</th>\n",
       "      <td>31</td>\n",
       "      <td>9</td>\n",
       "      <td>2</td>\n",
       "      <td>1</td>\n",
       "      <td>0</td>\n",
       "      <td>373</td>\n",
       "      <td>0</td>\n",
       "      <td>1</td>\n",
       "      <td>346</td>\n",
       "      <td>0</td>\n",
       "      <td>0</td>\n",
       "      <td>3</td>\n",
       "    </tr>\n",
       "    <tr>\n",
       "      <th>2</th>\n",
       "      <td>30</td>\n",
       "      <td>7</td>\n",
       "      <td>1</td>\n",
       "      <td>1</td>\n",
       "      <td>0</td>\n",
       "      <td>292</td>\n",
       "      <td>0</td>\n",
       "      <td>0</td>\n",
       "      <td>651</td>\n",
       "      <td>0</td>\n",
       "      <td>0</td>\n",
       "      <td>3</td>\n",
       "    </tr>\n",
       "    <tr>\n",
       "      <th>3</th>\n",
       "      <td>55</td>\n",
       "      <td>9</td>\n",
       "      <td>0</td>\n",
       "      <td>1</td>\n",
       "      <td>1</td>\n",
       "      <td>284</td>\n",
       "      <td>0</td>\n",
       "      <td>1</td>\n",
       "      <td>78</td>\n",
       "      <td>0</td>\n",
       "      <td>0</td>\n",
       "      <td>3</td>\n",
       "    </tr>\n",
       "    <tr>\n",
       "      <th>4</th>\n",
       "      <td>32</td>\n",
       "      <td>4</td>\n",
       "      <td>2</td>\n",
       "      <td>2</td>\n",
       "      <td>0</td>\n",
       "      <td>311</td>\n",
       "      <td>2</td>\n",
       "      <td>8</td>\n",
       "      <td>757</td>\n",
       "      <td>0</td>\n",
       "      <td>0</td>\n",
       "      <td>3</td>\n",
       "    </tr>\n",
       "    <tr>\n",
       "      <th>...</th>\n",
       "      <td>...</td>\n",
       "      <td>...</td>\n",
       "      <td>...</td>\n",
       "      <td>...</td>\n",
       "      <td>...</td>\n",
       "      <td>...</td>\n",
       "      <td>...</td>\n",
       "      <td>...</td>\n",
       "      <td>...</td>\n",
       "      <td>...</td>\n",
       "      <td>...</td>\n",
       "      <td>...</td>\n",
       "    </tr>\n",
       "    <tr>\n",
       "      <th>10822</th>\n",
       "      <td>47</td>\n",
       "      <td>4</td>\n",
       "      <td>1</td>\n",
       "      <td>2</td>\n",
       "      <td>0</td>\n",
       "      <td>761</td>\n",
       "      <td>0</td>\n",
       "      <td>5</td>\n",
       "      <td>80</td>\n",
       "      <td>0</td>\n",
       "      <td>0</td>\n",
       "      <td>3</td>\n",
       "    </tr>\n",
       "    <tr>\n",
       "      <th>10823</th>\n",
       "      <td>28</td>\n",
       "      <td>6</td>\n",
       "      <td>2</td>\n",
       "      <td>2</td>\n",
       "      <td>0</td>\n",
       "      <td>159</td>\n",
       "      <td>0</td>\n",
       "      <td>9</td>\n",
       "      <td>449</td>\n",
       "      <td>33</td>\n",
       "      <td>4</td>\n",
       "      <td>2</td>\n",
       "    </tr>\n",
       "    <tr>\n",
       "      <th>10824</th>\n",
       "      <td>35</td>\n",
       "      <td>9</td>\n",
       "      <td>1</td>\n",
       "      <td>1</td>\n",
       "      <td>0</td>\n",
       "      <td>1144</td>\n",
       "      <td>0</td>\n",
       "      <td>1</td>\n",
       "      <td>197</td>\n",
       "      <td>0</td>\n",
       "      <td>0</td>\n",
       "      <td>3</td>\n",
       "    </tr>\n",
       "    <tr>\n",
       "      <th>10825</th>\n",
       "      <td>51</td>\n",
       "      <td>5</td>\n",
       "      <td>1</td>\n",
       "      <td>2</td>\n",
       "      <td>0</td>\n",
       "      <td>746</td>\n",
       "      <td>0</td>\n",
       "      <td>1</td>\n",
       "      <td>372</td>\n",
       "      <td>0</td>\n",
       "      <td>0</td>\n",
       "      <td>3</td>\n",
       "    </tr>\n",
       "    <tr>\n",
       "      <th>10826</th>\n",
       "      <td>30</td>\n",
       "      <td>4</td>\n",
       "      <td>2</td>\n",
       "      <td>2</td>\n",
       "      <td>0</td>\n",
       "      <td>2</td>\n",
       "      <td>0</td>\n",
       "      <td>7</td>\n",
       "      <td>269</td>\n",
       "      <td>0</td>\n",
       "      <td>0</td>\n",
       "      <td>3</td>\n",
       "    </tr>\n",
       "  </tbody>\n",
       "</table>\n",
       "<p>10827 rows × 12 columns</p>\n",
       "</div>"
      ],
      "text/plain": [
       "       age  job  marital  education  defaulter  balance  contact  month  \\\n",
       "0       39    1        1          0          0     -119        2      6   \n",
       "1       31    9        2          1          0      373        0      1   \n",
       "2       30    7        1          1          0      292        0      0   \n",
       "3       55    9        0          1          1      284        0      1   \n",
       "4       32    4        2          2          0      311        2      8   \n",
       "...    ...  ...      ...        ...        ...      ...      ...    ...   \n",
       "10822   47    4        1          2          0      761        0      5   \n",
       "10823   28    6        2          2          0      159        0      9   \n",
       "10824   35    9        1          1          0     1144        0      1   \n",
       "10825   51    5        1          2          0      746        0      1   \n",
       "10826   30    4        2          2          0        2        0      7   \n",
       "\n",
       "       duration  pdays  prev  poutcome  \n",
       "0           135      0     0         3  \n",
       "1           346      0     0         3  \n",
       "2           651      0     0         3  \n",
       "3            78      0     0         3  \n",
       "4           757      0     0         3  \n",
       "...         ...    ...   ...       ...  \n",
       "10822        80      0     0         3  \n",
       "10823       449     33     4         2  \n",
       "10824       197      0     0         3  \n",
       "10825       372      0     0         3  \n",
       "10826       269      0     0         3  \n",
       "\n",
       "[10827 rows x 12 columns]"
      ]
     },
     "execution_count": 43,
     "metadata": {},
     "output_type": "execute_result"
    }
   ],
   "source": [
    "X"
   ]
  },
  {
   "cell_type": "code",
   "execution_count": 44,
   "metadata": {},
   "outputs": [
    {
     "data": {
      "text/plain": [
       "0        0\n",
       "1        0\n",
       "2        0\n",
       "3        0\n",
       "4        1\n",
       "        ..\n",
       "10822    0\n",
       "10823    1\n",
       "10824    0\n",
       "10825    1\n",
       "10826    0\n",
       "Name: deposit, Length: 10827, dtype: int64"
      ]
     },
     "execution_count": 44,
     "metadata": {},
     "output_type": "execute_result"
    }
   ],
   "source": [
    "Y"
   ]
  },
  {
   "cell_type": "markdown",
   "metadata": {},
   "source": [
    "# preprocessing the data"
   ]
  },
  {
   "cell_type": "code",
   "execution_count": 45,
   "metadata": {},
   "outputs": [
    {
     "data": {
      "text/plain": [
       "array([[0.27272727, 0.09090909, 0.5       , ..., 0.        , 0.        ,\n",
       "        1.        ],\n",
       "       [0.16883117, 0.81818182, 1.        , ..., 0.        , 0.        ,\n",
       "        1.        ],\n",
       "       [0.15584416, 0.63636364, 0.5       , ..., 0.        , 0.        ,\n",
       "        1.        ],\n",
       "       ...,\n",
       "       [0.22077922, 0.81818182, 0.5       , ..., 0.        , 0.        ,\n",
       "        1.        ],\n",
       "       [0.42857143, 0.45454545, 0.5       , ..., 0.        , 0.        ,\n",
       "        1.        ],\n",
       "       [0.15584416, 0.36363636, 1.        , ..., 0.        , 0.        ,\n",
       "        1.        ]])"
      ]
     },
     "execution_count": 45,
     "metadata": {},
     "output_type": "execute_result"
    }
   ],
   "source": [
    "from sklearn import preprocessing\n",
    "minmax=preprocessing.MinMaxScaler(feature_range=(0,1))\n",
    "minmax.fit(X).transform(X)"
   ]
  },
  {
   "cell_type": "markdown",
   "metadata": {},
   "source": [
    "# Train Test Split"
   ]
  },
  {
   "cell_type": "code",
   "execution_count": 46,
   "metadata": {},
   "outputs": [],
   "source": [
    "#Splitting the dataset into Training set and Test set\n",
    "from sklearn import model_selection, neighbors\n",
    "from sklearn.model_selection import train_test_split\n",
    "X_train, X_test, Y_train, Y_test = train_test_split(X,Y,test_size=0.2)"
   ]
  },
  {
   "cell_type": "code",
   "execution_count": 47,
   "metadata": {},
   "outputs": [
    {
     "data": {
      "text/html": [
       "<div>\n",
       "<style scoped>\n",
       "    .dataframe tbody tr th:only-of-type {\n",
       "        vertical-align: middle;\n",
       "    }\n",
       "\n",
       "    .dataframe tbody tr th {\n",
       "        vertical-align: top;\n",
       "    }\n",
       "\n",
       "    .dataframe thead th {\n",
       "        text-align: right;\n",
       "    }\n",
       "</style>\n",
       "<table border=\"1\" class=\"dataframe\">\n",
       "  <thead>\n",
       "    <tr style=\"text-align: right;\">\n",
       "      <th></th>\n",
       "      <th>age</th>\n",
       "      <th>job</th>\n",
       "      <th>marital</th>\n",
       "      <th>education</th>\n",
       "      <th>defaulter</th>\n",
       "      <th>balance</th>\n",
       "      <th>contact</th>\n",
       "      <th>month</th>\n",
       "      <th>duration</th>\n",
       "      <th>pdays</th>\n",
       "      <th>prev</th>\n",
       "      <th>poutcome</th>\n",
       "    </tr>\n",
       "  </thead>\n",
       "  <tbody>\n",
       "    <tr>\n",
       "      <th>4070</th>\n",
       "      <td>46</td>\n",
       "      <td>1</td>\n",
       "      <td>1</td>\n",
       "      <td>1</td>\n",
       "      <td>0</td>\n",
       "      <td>4707</td>\n",
       "      <td>2</td>\n",
       "      <td>8</td>\n",
       "      <td>93</td>\n",
       "      <td>0</td>\n",
       "      <td>0</td>\n",
       "      <td>3</td>\n",
       "    </tr>\n",
       "    <tr>\n",
       "      <th>4186</th>\n",
       "      <td>42</td>\n",
       "      <td>1</td>\n",
       "      <td>1</td>\n",
       "      <td>1</td>\n",
       "      <td>0</td>\n",
       "      <td>790</td>\n",
       "      <td>2</td>\n",
       "      <td>8</td>\n",
       "      <td>356</td>\n",
       "      <td>0</td>\n",
       "      <td>0</td>\n",
       "      <td>3</td>\n",
       "    </tr>\n",
       "    <tr>\n",
       "      <th>3332</th>\n",
       "      <td>42</td>\n",
       "      <td>1</td>\n",
       "      <td>1</td>\n",
       "      <td>1</td>\n",
       "      <td>0</td>\n",
       "      <td>443</td>\n",
       "      <td>2</td>\n",
       "      <td>6</td>\n",
       "      <td>671</td>\n",
       "      <td>0</td>\n",
       "      <td>0</td>\n",
       "      <td>3</td>\n",
       "    </tr>\n",
       "    <tr>\n",
       "      <th>1169</th>\n",
       "      <td>31</td>\n",
       "      <td>9</td>\n",
       "      <td>2</td>\n",
       "      <td>2</td>\n",
       "      <td>0</td>\n",
       "      <td>-749</td>\n",
       "      <td>0</td>\n",
       "      <td>5</td>\n",
       "      <td>82</td>\n",
       "      <td>0</td>\n",
       "      <td>0</td>\n",
       "      <td>3</td>\n",
       "    </tr>\n",
       "    <tr>\n",
       "      <th>8768</th>\n",
       "      <td>32</td>\n",
       "      <td>9</td>\n",
       "      <td>1</td>\n",
       "      <td>1</td>\n",
       "      <td>0</td>\n",
       "      <td>616</td>\n",
       "      <td>0</td>\n",
       "      <td>1</td>\n",
       "      <td>118</td>\n",
       "      <td>0</td>\n",
       "      <td>0</td>\n",
       "      <td>3</td>\n",
       "    </tr>\n",
       "    <tr>\n",
       "      <th>...</th>\n",
       "      <td>...</td>\n",
       "      <td>...</td>\n",
       "      <td>...</td>\n",
       "      <td>...</td>\n",
       "      <td>...</td>\n",
       "      <td>...</td>\n",
       "      <td>...</td>\n",
       "      <td>...</td>\n",
       "      <td>...</td>\n",
       "      <td>...</td>\n",
       "      <td>...</td>\n",
       "      <td>...</td>\n",
       "    </tr>\n",
       "    <tr>\n",
       "      <th>8199</th>\n",
       "      <td>30</td>\n",
       "      <td>7</td>\n",
       "      <td>1</td>\n",
       "      <td>1</td>\n",
       "      <td>0</td>\n",
       "      <td>5</td>\n",
       "      <td>0</td>\n",
       "      <td>5</td>\n",
       "      <td>829</td>\n",
       "      <td>0</td>\n",
       "      <td>0</td>\n",
       "      <td>3</td>\n",
       "    </tr>\n",
       "    <tr>\n",
       "      <th>4879</th>\n",
       "      <td>26</td>\n",
       "      <td>0</td>\n",
       "      <td>2</td>\n",
       "      <td>1</td>\n",
       "      <td>0</td>\n",
       "      <td>1099</td>\n",
       "      <td>0</td>\n",
       "      <td>4</td>\n",
       "      <td>99</td>\n",
       "      <td>225</td>\n",
       "      <td>13</td>\n",
       "      <td>1</td>\n",
       "    </tr>\n",
       "    <tr>\n",
       "      <th>4648</th>\n",
       "      <td>58</td>\n",
       "      <td>5</td>\n",
       "      <td>1</td>\n",
       "      <td>0</td>\n",
       "      <td>0</td>\n",
       "      <td>0</td>\n",
       "      <td>0</td>\n",
       "      <td>1</td>\n",
       "      <td>506</td>\n",
       "      <td>0</td>\n",
       "      <td>0</td>\n",
       "      <td>3</td>\n",
       "    </tr>\n",
       "    <tr>\n",
       "      <th>4731</th>\n",
       "      <td>60</td>\n",
       "      <td>5</td>\n",
       "      <td>0</td>\n",
       "      <td>1</td>\n",
       "      <td>0</td>\n",
       "      <td>1091</td>\n",
       "      <td>0</td>\n",
       "      <td>5</td>\n",
       "      <td>441</td>\n",
       "      <td>0</td>\n",
       "      <td>0</td>\n",
       "      <td>3</td>\n",
       "    </tr>\n",
       "    <tr>\n",
       "      <th>68</th>\n",
       "      <td>49</td>\n",
       "      <td>9</td>\n",
       "      <td>0</td>\n",
       "      <td>1</td>\n",
       "      <td>0</td>\n",
       "      <td>5</td>\n",
       "      <td>0</td>\n",
       "      <td>1</td>\n",
       "      <td>131</td>\n",
       "      <td>0</td>\n",
       "      <td>0</td>\n",
       "      <td>3</td>\n",
       "    </tr>\n",
       "  </tbody>\n",
       "</table>\n",
       "<p>8661 rows × 12 columns</p>\n",
       "</div>"
      ],
      "text/plain": [
       "      age  job  marital  education  defaulter  balance  contact  month  \\\n",
       "4070   46    1        1          1          0     4707        2      8   \n",
       "4186   42    1        1          1          0      790        2      8   \n",
       "3332   42    1        1          1          0      443        2      6   \n",
       "1169   31    9        2          2          0     -749        0      5   \n",
       "8768   32    9        1          1          0      616        0      1   \n",
       "...   ...  ...      ...        ...        ...      ...      ...    ...   \n",
       "8199   30    7        1          1          0        5        0      5   \n",
       "4879   26    0        2          1          0     1099        0      4   \n",
       "4648   58    5        1          0          0        0        0      1   \n",
       "4731   60    5        0          1          0     1091        0      5   \n",
       "68     49    9        0          1          0        5        0      1   \n",
       "\n",
       "      duration  pdays  prev  poutcome  \n",
       "4070        93      0     0         3  \n",
       "4186       356      0     0         3  \n",
       "3332       671      0     0         3  \n",
       "1169        82      0     0         3  \n",
       "8768       118      0     0         3  \n",
       "...        ...    ...   ...       ...  \n",
       "8199       829      0     0         3  \n",
       "4879        99    225    13         1  \n",
       "4648       506      0     0         3  \n",
       "4731       441      0     0         3  \n",
       "68         131      0     0         3  \n",
       "\n",
       "[8661 rows x 12 columns]"
      ]
     },
     "execution_count": 47,
     "metadata": {},
     "output_type": "execute_result"
    }
   ],
   "source": [
    "X_train"
   ]
  },
  {
   "cell_type": "code",
   "execution_count": 48,
   "metadata": {},
   "outputs": [
    {
     "data": {
      "text/plain": [
       "4070    0\n",
       "4186    0\n",
       "3332    1\n",
       "1169    0\n",
       "8768    0\n",
       "       ..\n",
       "8199    1\n",
       "4879    0\n",
       "4648    0\n",
       "4731    1\n",
       "68      0\n",
       "Name: deposit, Length: 8661, dtype: int64"
      ]
     },
     "execution_count": 48,
     "metadata": {},
     "output_type": "execute_result"
    }
   ],
   "source": [
    "Y_train"
   ]
  },
  {
   "cell_type": "code",
   "execution_count": 49,
   "metadata": {},
   "outputs": [
    {
     "data": {
      "text/html": [
       "<div>\n",
       "<style scoped>\n",
       "    .dataframe tbody tr th:only-of-type {\n",
       "        vertical-align: middle;\n",
       "    }\n",
       "\n",
       "    .dataframe tbody tr th {\n",
       "        vertical-align: top;\n",
       "    }\n",
       "\n",
       "    .dataframe thead th {\n",
       "        text-align: right;\n",
       "    }\n",
       "</style>\n",
       "<table border=\"1\" class=\"dataframe\">\n",
       "  <thead>\n",
       "    <tr style=\"text-align: right;\">\n",
       "      <th></th>\n",
       "      <th>age</th>\n",
       "      <th>job</th>\n",
       "      <th>marital</th>\n",
       "      <th>education</th>\n",
       "      <th>defaulter</th>\n",
       "      <th>balance</th>\n",
       "      <th>contact</th>\n",
       "      <th>month</th>\n",
       "      <th>duration</th>\n",
       "      <th>pdays</th>\n",
       "      <th>prev</th>\n",
       "      <th>poutcome</th>\n",
       "    </tr>\n",
       "  </thead>\n",
       "  <tbody>\n",
       "    <tr>\n",
       "      <th>6152</th>\n",
       "      <td>40</td>\n",
       "      <td>0</td>\n",
       "      <td>2</td>\n",
       "      <td>2</td>\n",
       "      <td>0</td>\n",
       "      <td>1005</td>\n",
       "      <td>0</td>\n",
       "      <td>5</td>\n",
       "      <td>449</td>\n",
       "      <td>0</td>\n",
       "      <td>0</td>\n",
       "      <td>3</td>\n",
       "    </tr>\n",
       "    <tr>\n",
       "      <th>1401</th>\n",
       "      <td>71</td>\n",
       "      <td>5</td>\n",
       "      <td>1</td>\n",
       "      <td>2</td>\n",
       "      <td>0</td>\n",
       "      <td>653</td>\n",
       "      <td>1</td>\n",
       "      <td>11</td>\n",
       "      <td>471</td>\n",
       "      <td>189</td>\n",
       "      <td>1</td>\n",
       "      <td>2</td>\n",
       "    </tr>\n",
       "    <tr>\n",
       "      <th>4625</th>\n",
       "      <td>29</td>\n",
       "      <td>6</td>\n",
       "      <td>2</td>\n",
       "      <td>2</td>\n",
       "      <td>0</td>\n",
       "      <td>805</td>\n",
       "      <td>0</td>\n",
       "      <td>3</td>\n",
       "      <td>132</td>\n",
       "      <td>103</td>\n",
       "      <td>7</td>\n",
       "      <td>0</td>\n",
       "    </tr>\n",
       "    <tr>\n",
       "      <th>6234</th>\n",
       "      <td>32</td>\n",
       "      <td>9</td>\n",
       "      <td>2</td>\n",
       "      <td>1</td>\n",
       "      <td>0</td>\n",
       "      <td>-114</td>\n",
       "      <td>0</td>\n",
       "      <td>1</td>\n",
       "      <td>155</td>\n",
       "      <td>0</td>\n",
       "      <td>0</td>\n",
       "      <td>3</td>\n",
       "    </tr>\n",
       "    <tr>\n",
       "      <th>10028</th>\n",
       "      <td>55</td>\n",
       "      <td>0</td>\n",
       "      <td>1</td>\n",
       "      <td>1</td>\n",
       "      <td>0</td>\n",
       "      <td>8304</td>\n",
       "      <td>0</td>\n",
       "      <td>6</td>\n",
       "      <td>201</td>\n",
       "      <td>0</td>\n",
       "      <td>0</td>\n",
       "      <td>3</td>\n",
       "    </tr>\n",
       "    <tr>\n",
       "      <th>...</th>\n",
       "      <td>...</td>\n",
       "      <td>...</td>\n",
       "      <td>...</td>\n",
       "      <td>...</td>\n",
       "      <td>...</td>\n",
       "      <td>...</td>\n",
       "      <td>...</td>\n",
       "      <td>...</td>\n",
       "      <td>...</td>\n",
       "      <td>...</td>\n",
       "      <td>...</td>\n",
       "      <td>...</td>\n",
       "    </tr>\n",
       "    <tr>\n",
       "      <th>10052</th>\n",
       "      <td>24</td>\n",
       "      <td>0</td>\n",
       "      <td>2</td>\n",
       "      <td>2</td>\n",
       "      <td>0</td>\n",
       "      <td>1141</td>\n",
       "      <td>2</td>\n",
       "      <td>8</td>\n",
       "      <td>230</td>\n",
       "      <td>0</td>\n",
       "      <td>0</td>\n",
       "      <td>3</td>\n",
       "    </tr>\n",
       "    <tr>\n",
       "      <th>8845</th>\n",
       "      <td>23</td>\n",
       "      <td>9</td>\n",
       "      <td>2</td>\n",
       "      <td>1</td>\n",
       "      <td>0</td>\n",
       "      <td>-782</td>\n",
       "      <td>2</td>\n",
       "      <td>6</td>\n",
       "      <td>197</td>\n",
       "      <td>0</td>\n",
       "      <td>0</td>\n",
       "      <td>3</td>\n",
       "    </tr>\n",
       "    <tr>\n",
       "      <th>4324</th>\n",
       "      <td>31</td>\n",
       "      <td>0</td>\n",
       "      <td>2</td>\n",
       "      <td>1</td>\n",
       "      <td>0</td>\n",
       "      <td>131</td>\n",
       "      <td>0</td>\n",
       "      <td>6</td>\n",
       "      <td>151</td>\n",
       "      <td>0</td>\n",
       "      <td>0</td>\n",
       "      <td>3</td>\n",
       "    </tr>\n",
       "    <tr>\n",
       "      <th>3759</th>\n",
       "      <td>43</td>\n",
       "      <td>4</td>\n",
       "      <td>1</td>\n",
       "      <td>2</td>\n",
       "      <td>0</td>\n",
       "      <td>78</td>\n",
       "      <td>0</td>\n",
       "      <td>9</td>\n",
       "      <td>36</td>\n",
       "      <td>109</td>\n",
       "      <td>1</td>\n",
       "      <td>1</td>\n",
       "    </tr>\n",
       "    <tr>\n",
       "      <th>4612</th>\n",
       "      <td>32</td>\n",
       "      <td>4</td>\n",
       "      <td>2</td>\n",
       "      <td>1</td>\n",
       "      <td>0</td>\n",
       "      <td>131</td>\n",
       "      <td>0</td>\n",
       "      <td>5</td>\n",
       "      <td>1152</td>\n",
       "      <td>0</td>\n",
       "      <td>0</td>\n",
       "      <td>3</td>\n",
       "    </tr>\n",
       "  </tbody>\n",
       "</table>\n",
       "<p>2166 rows × 12 columns</p>\n",
       "</div>"
      ],
      "text/plain": [
       "       age  job  marital  education  defaulter  balance  contact  month  \\\n",
       "6152    40    0        2          2          0     1005        0      5   \n",
       "1401    71    5        1          2          0      653        1     11   \n",
       "4625    29    6        2          2          0      805        0      3   \n",
       "6234    32    9        2          1          0     -114        0      1   \n",
       "10028   55    0        1          1          0     8304        0      6   \n",
       "...    ...  ...      ...        ...        ...      ...      ...    ...   \n",
       "10052   24    0        2          2          0     1141        2      8   \n",
       "8845    23    9        2          1          0     -782        2      6   \n",
       "4324    31    0        2          1          0      131        0      6   \n",
       "3759    43    4        1          2          0       78        0      9   \n",
       "4612    32    4        2          1          0      131        0      5   \n",
       "\n",
       "       duration  pdays  prev  poutcome  \n",
       "6152        449      0     0         3  \n",
       "1401        471    189     1         2  \n",
       "4625        132    103     7         0  \n",
       "6234        155      0     0         3  \n",
       "10028       201      0     0         3  \n",
       "...         ...    ...   ...       ...  \n",
       "10052       230      0     0         3  \n",
       "8845        197      0     0         3  \n",
       "4324        151      0     0         3  \n",
       "3759         36    109     1         1  \n",
       "4612       1152      0     0         3  \n",
       "\n",
       "[2166 rows x 12 columns]"
      ]
     },
     "execution_count": 49,
     "metadata": {},
     "output_type": "execute_result"
    }
   ],
   "source": [
    "X_test"
   ]
  },
  {
   "cell_type": "code",
   "execution_count": 50,
   "metadata": {},
   "outputs": [
    {
     "data": {
      "text/plain": [
       "6152     0\n",
       "1401     1\n",
       "4625     1\n",
       "6234     0\n",
       "10028    1\n",
       "        ..\n",
       "10052    0\n",
       "8845     0\n",
       "4324     1\n",
       "3759     0\n",
       "4612     1\n",
       "Name: deposit, Length: 2166, dtype: int64"
      ]
     },
     "execution_count": 50,
     "metadata": {},
     "output_type": "execute_result"
    }
   ],
   "source": [
    "Y_test"
   ]
  },
  {
   "cell_type": "markdown",
   "metadata": {},
   "source": [
    "# KNN classifier"
   ]
  },
  {
   "cell_type": "code",
   "execution_count": 51,
   "metadata": {},
   "outputs": [
    {
     "data": {
      "text/html": [
       "<style>#sk-container-id-1 {color: black;background-color: white;}#sk-container-id-1 pre{padding: 0;}#sk-container-id-1 div.sk-toggleable {background-color: white;}#sk-container-id-1 label.sk-toggleable__label {cursor: pointer;display: block;width: 100%;margin-bottom: 0;padding: 0.3em;box-sizing: border-box;text-align: center;}#sk-container-id-1 label.sk-toggleable__label-arrow:before {content: \"▸\";float: left;margin-right: 0.25em;color: #696969;}#sk-container-id-1 label.sk-toggleable__label-arrow:hover:before {color: black;}#sk-container-id-1 div.sk-estimator:hover label.sk-toggleable__label-arrow:before {color: black;}#sk-container-id-1 div.sk-toggleable__content {max-height: 0;max-width: 0;overflow: hidden;text-align: left;background-color: #f0f8ff;}#sk-container-id-1 div.sk-toggleable__content pre {margin: 0.2em;color: black;border-radius: 0.25em;background-color: #f0f8ff;}#sk-container-id-1 input.sk-toggleable__control:checked~div.sk-toggleable__content {max-height: 200px;max-width: 100%;overflow: auto;}#sk-container-id-1 input.sk-toggleable__control:checked~label.sk-toggleable__label-arrow:before {content: \"▾\";}#sk-container-id-1 div.sk-estimator input.sk-toggleable__control:checked~label.sk-toggleable__label {background-color: #d4ebff;}#sk-container-id-1 div.sk-label input.sk-toggleable__control:checked~label.sk-toggleable__label {background-color: #d4ebff;}#sk-container-id-1 input.sk-hidden--visually {border: 0;clip: rect(1px 1px 1px 1px);clip: rect(1px, 1px, 1px, 1px);height: 1px;margin: -1px;overflow: hidden;padding: 0;position: absolute;width: 1px;}#sk-container-id-1 div.sk-estimator {font-family: monospace;background-color: #f0f8ff;border: 1px dotted black;border-radius: 0.25em;box-sizing: border-box;margin-bottom: 0.5em;}#sk-container-id-1 div.sk-estimator:hover {background-color: #d4ebff;}#sk-container-id-1 div.sk-parallel-item::after {content: \"\";width: 100%;border-bottom: 1px solid gray;flex-grow: 1;}#sk-container-id-1 div.sk-label:hover label.sk-toggleable__label {background-color: #d4ebff;}#sk-container-id-1 div.sk-serial::before {content: \"\";position: absolute;border-left: 1px solid gray;box-sizing: border-box;top: 0;bottom: 0;left: 50%;z-index: 0;}#sk-container-id-1 div.sk-serial {display: flex;flex-direction: column;align-items: center;background-color: white;padding-right: 0.2em;padding-left: 0.2em;position: relative;}#sk-container-id-1 div.sk-item {position: relative;z-index: 1;}#sk-container-id-1 div.sk-parallel {display: flex;align-items: stretch;justify-content: center;background-color: white;position: relative;}#sk-container-id-1 div.sk-item::before, #sk-container-id-1 div.sk-parallel-item::before {content: \"\";position: absolute;border-left: 1px solid gray;box-sizing: border-box;top: 0;bottom: 0;left: 50%;z-index: -1;}#sk-container-id-1 div.sk-parallel-item {display: flex;flex-direction: column;z-index: 1;position: relative;background-color: white;}#sk-container-id-1 div.sk-parallel-item:first-child::after {align-self: flex-end;width: 50%;}#sk-container-id-1 div.sk-parallel-item:last-child::after {align-self: flex-start;width: 50%;}#sk-container-id-1 div.sk-parallel-item:only-child::after {width: 0;}#sk-container-id-1 div.sk-dashed-wrapped {border: 1px dashed gray;margin: 0 0.4em 0.5em 0.4em;box-sizing: border-box;padding-bottom: 0.4em;background-color: white;}#sk-container-id-1 div.sk-label label {font-family: monospace;font-weight: bold;display: inline-block;line-height: 1.2em;}#sk-container-id-1 div.sk-label-container {text-align: center;}#sk-container-id-1 div.sk-container {/* jupyter's `normalize.less` sets `[hidden] { display: none; }` but bootstrap.min.css set `[hidden] { display: none !important; }` so we also need the `!important` here to be able to override the default hidden behavior on the sphinx rendered scikit-learn.org. See: https://github.com/scikit-learn/scikit-learn/issues/21755 */display: inline-block !important;position: relative;}#sk-container-id-1 div.sk-text-repr-fallback {display: none;}</style><div id=\"sk-container-id-1\" class=\"sk-top-container\"><div class=\"sk-text-repr-fallback\"><pre>KNeighborsClassifier()</pre><b>In a Jupyter environment, please rerun this cell to show the HTML representation or trust the notebook. <br />On GitHub, the HTML representation is unable to render, please try loading this page with nbviewer.org.</b></div><div class=\"sk-container\" hidden><div class=\"sk-item\"><div class=\"sk-estimator sk-toggleable\"><input class=\"sk-toggleable__control sk-hidden--visually\" id=\"sk-estimator-id-1\" type=\"checkbox\" checked><label for=\"sk-estimator-id-1\" class=\"sk-toggleable__label sk-toggleable__label-arrow\">KNeighborsClassifier</label><div class=\"sk-toggleable__content\"><pre>KNeighborsClassifier()</pre></div></div></div></div></div>"
      ],
      "text/plain": [
       "KNeighborsClassifier()"
      ]
     },
     "execution_count": 51,
     "metadata": {},
     "output_type": "execute_result"
    }
   ],
   "source": [
    "#Fitting Classifier to the Training set\n",
    "clf = neighbors.KNeighborsClassifier()\n",
    "clf.fit(X_train,Y_train)"
   ]
  },
  {
   "cell_type": "code",
   "execution_count": 52,
   "metadata": {},
   "outputs": [],
   "source": [
    "Y_pred=clf.predict(X_test)"
   ]
  },
  {
   "cell_type": "code",
   "execution_count": 53,
   "metadata": {},
   "outputs": [
    {
     "name": "stdout",
     "output_type": "stream",
     "text": [
      "Actual Deposit \n",
      "[0 1 1 ... 1 0 1]\n"
     ]
    }
   ],
   "source": [
    "print('Actual Deposit ')\n",
    "print(Y_test.values)"
   ]
  },
  {
   "cell_type": "code",
   "execution_count": 54,
   "metadata": {},
   "outputs": [
    {
     "name": "stdout",
     "output_type": "stream",
     "text": [
      "Predicted Deposit\n",
      "[1 1 1 ... 0 0 1]\n"
     ]
    }
   ],
   "source": [
    "print('Predicted Deposit')\n",
    "print(Y_pred)"
   ]
  },
  {
   "cell_type": "code",
   "execution_count": 55,
   "metadata": {},
   "outputs": [
    {
     "name": "stdout",
     "output_type": "stream",
     "text": [
      "\n",
      "Accuracy score: 74.607572\n",
      "Recall score : 74.000000\n",
      "ROC score : 74.589606\n",
      "\n",
      "[[839 277]\n",
      " [273 777]]\n"
     ]
    }
   ],
   "source": [
    "#Accuracy score on Test and Train\n",
    "from sklearn.metrics import accuracy_score, recall_score, roc_auc_score, confusion_matrix\n",
    "\n",
    "knn_acc=accuracy_score(Y_test,Y_pred) * 100\n",
    "print(\"\\nAccuracy score: %f\" %(accuracy_score(Y_test,Y_pred) * 100))\n",
    "print(\"Recall score : %f\" %(recall_score(Y_test, Y_pred) * 100))\n",
    "print(\"ROC score : %f\\n\" %(roc_auc_score(Y_test, Y_pred) * 100))\n",
    "print(confusion_matrix(Y_test, Y_pred)) \n",
    "\n"
   ]
  },
  {
   "cell_type": "code",
   "execution_count": 56,
   "metadata": {},
   "outputs": [],
   "source": [
    "\n",
    "#Predict the probability of each test data point\n",
    "#Get the probability distribution\n",
    "probas = clf.predict_proba(X_test)"
   ]
  },
  {
   "cell_type": "code",
   "execution_count": 57,
   "metadata": {},
   "outputs": [
    {
     "data": {
      "image/png": "[encoded data removed]",
      "text/plain": [
       "<Figure size 960x720 with 1 Axes>"
      ]
     },
     "metadata": {},
     "output_type": "display_data"
    }
   ],
   "source": [
    "#Visualize the probabilities\n",
    "# plot\n",
    "import matplotlib.pyplot as plt\n",
    "plt.figure(dpi=150)\n",
    "plt.hist(probas, bins=20)\n",
    "plt.title('Classification Probabilities')\n",
    "plt.xlabel('Probability')\n",
    "plt.ylabel('# of Instances')\n",
    "plt.xlim([0.5, 1.0])\n",
    "plt.legend(Y_test)\n",
    "plt.show()"
   ]
  },
  {
   "cell_type": "code",
   "execution_count": 58,
   "metadata": {},
   "outputs": [],
   "source": [
    "X_train_std = minmax.fit_transform(X_train)\n",
    "X_test_std = minmax.transform(X_test)"
   ]
  },
  {
   "cell_type": "code",
   "execution_count": 59,
   "metadata": {},
   "outputs": [],
   "source": [
    "#Evaluation Metrics\n",
    "from sklearn.model_selection import cross_val_score,cross_val_predict"
   ]
  },
  {
   "cell_type": "code",
   "execution_count": 60,
   "metadata": {},
   "outputs": [],
   "source": [
    "#Print cross validation score for kNN\n",
    "clf_acc = cross_val_score(clf, X_train_std, Y_train, cv=3, scoring=\"accuracy\",  n_jobs=-1)"
   ]
  },
  {
   "cell_type": "code",
   "execution_count": 61,
   "metadata": {},
   "outputs": [],
   "source": [
    "clf_proba = cross_val_predict(clf, X_train_std, Y_train, cv=3, method='predict_proba')\n",
    "clf_scores = clf_proba[:, 1] # get the score of the positive class "
   ]
  },
  {
   "cell_type": "code",
   "execution_count": 62,
   "metadata": {},
   "outputs": [
    {
     "data": {
      "text/plain": [
       "array([0.75684101, 0.73779009, 0.75303083])"
      ]
     },
     "execution_count": 62,
     "metadata": {},
     "output_type": "execute_result"
    }
   ],
   "source": [
    "clf_acc"
   ]
  },
  {
   "cell_type": "markdown",
   "metadata": {},
   "source": [
    "#  Logistic Regression"
   ]
  },
  {
   "cell_type": "code",
   "execution_count": 63,
   "metadata": {},
   "outputs": [
    {
     "name": "stderr",
     "output_type": "stream",
     "text": [
      "/home/entelekheia/anaconda3/lib/python3.11/site-packages/sklearn/linear_model/_logistic.py:458: ConvergenceWarning: lbfgs failed to converge (status=1):\n",
      "STOP: TOTAL NO. of ITERATIONS REACHED LIMIT.\n",
      "\n",
      "Increase the number of iterations (max_iter) or scale the data as shown in:\n",
      "    https://scikit-learn.org/stable/modules/preprocessing.html\n",
      "Please also refer to the documentation for alternative solver options:\n",
      "    https://scikit-learn.org/stable/modules/linear_model.html#logistic-regression\n",
      "  n_iter_i = _check_optimize_result(\n"
     ]
    }
   ],
   "source": [
    "#Build a Logistic Regression Model\n",
    "from sklearn.linear_model import LogisticRegression\n",
    "lr = LogisticRegression()\n",
    "lr.fit(X_train,Y_train)\n",
    "lr_acc = cross_val_score(lr, X_train_std, Y_train, cv=3, scoring='accuracy', n_jobs=-1)\n",
    "lr_proba = cross_val_predict(lr, X_train_std, Y_train, cv=3, method='predict_proba')\n",
    "lr_scores = lr_proba[:, 1]"
   ]
  },
  {
   "cell_type": "code",
   "execution_count": 64,
   "metadata": {},
   "outputs": [
    {
     "data": {
      "text/plain": [
       "array([0.76376862, 0.76550052, 0.77381365])"
      ]
     },
     "execution_count": 64,
     "metadata": {},
     "output_type": "execute_result"
    }
   ],
   "source": [
    "lr_acc"
   ]
  },
  {
   "cell_type": "code",
   "execution_count": 65,
   "metadata": {},
   "outputs": [],
   "source": [
    "#Predict on test data\n",
    "Y_pred=lr.predict(X_test)"
   ]
  },
  {
   "cell_type": "code",
   "execution_count": 66,
   "metadata": {},
   "outputs": [
    {
     "name": "stdout",
     "output_type": "stream",
     "text": [
      "Actual Deposit \n",
      "[0 1 1 ... 1 0 1]\n"
     ]
    }
   ],
   "source": [
    "print('Actual Deposit ')\n",
    "print(Y_test.values)"
   ]
  },
  {
   "cell_type": "code",
   "execution_count": 67,
   "metadata": {},
   "outputs": [
    {
     "name": "stdout",
     "output_type": "stream",
     "text": [
      "Predicted Deposit\n",
      "[1 0 1 ... 0 0 1]\n"
     ]
    }
   ],
   "source": [
    "print('Predicted Deposit')\n",
    "print(Y_pred)"
   ]
  },
  {
   "cell_type": "code",
   "execution_count": 68,
   "metadata": {},
   "outputs": [
    {
     "name": "stdout",
     "output_type": "stream",
     "text": [
      "\n",
      "Accuracy score: 74.422899\n",
      "Recall score : 69.714286\n",
      "ROC score : 74.283666\n",
      "\n",
      "[[880 236]\n",
      " [318 732]]\n"
     ]
    }
   ],
   "source": [
    "#Accuracy score on Test and Train\n",
    "from sklearn.metrics import accuracy_score, recall_score, roc_auc_score, confusion_matrix\n",
    "acc_lr=accuracy_score(Y_test,Y_pred) * 100\n",
    "print(\"\\nAccuracy score: %f\" %(accuracy_score(Y_test,Y_pred) * 100))\n",
    "print(\"Recall score : %f\" %(recall_score(Y_test, Y_pred) * 100))\n",
    "print(\"ROC score : %f\\n\" %(roc_auc_score(Y_test, Y_pred) * 100))\n",
    "print(confusion_matrix(Y_test, Y_pred))"
   ]
  },
  {
   "cell_type": "code",
   "execution_count": 69,
   "metadata": {},
   "outputs": [],
   "source": [
    "from sklearn.metrics import roc_auc_score,roc_curve\n",
    "def ROC_curve(title, Y_train, scores, label=None):\n",
    "    # calculate the ROC score\n",
    "    fpr, tpr, thresholds = roc_curve(Y_train, scores)\n",
    "    print('AUC Score ({}): {:.2f} '.format(title, roc_auc_score(Y_train, scores)))\n",
    "    \n",
    "    # plot the ROC curve\n",
    "    plt.figure(figsize=(8,6))\n",
    "    plt.plot(fpr, tpr, linewidth=2, label=label, color='b')\n",
    "    plt.xlabel('False Positive Rate', fontsize=16)\n",
    "    plt.ylabel('True Positive Rate', fontsize=16)\n",
    "    plt.title('ROC Curve: {}'.format(title), fontsize=16)\n",
    "    plt.show()"
   ]
  },
  {
   "cell_type": "markdown",
   "metadata": {},
   "source": [
    "# Decision Tree"
   ]
  },
  {
   "cell_type": "code",
   "execution_count": 70,
   "metadata": {},
   "outputs": [
    {
     "data": {
      "text/plain": [
       "array([0.77000346, 0.74783512, 0.76342224])"
      ]
     },
     "execution_count": 70,
     "metadata": {},
     "output_type": "execute_result"
    }
   ],
   "source": [
    "#Decision Tree Classifier\n",
    "from sklearn.tree import DecisionTreeClassifier\n",
    "dtc_clf = DecisionTreeClassifier()\n",
    "dtc_clf.fit(X_train,Y_train)\n",
    "\n",
    "#Print cross validation score for Decision Tree Calssifier\n",
    "dtc_clf_acc = cross_val_score(dtc_clf, X_train_std, Y_train, cv=3, scoring=\"accuracy\",  n_jobs=-1)\n",
    "dtc_proba = cross_val_predict(dtc_clf, X_train_std, Y_train, cv=3, method='predict_proba')\n",
    "dtc_clf_scores = dtc_proba[:, 1]\n",
    "dtc_clf_acc"
   ]
  },
  {
   "cell_type": "code",
   "execution_count": 71,
   "metadata": {},
   "outputs": [],
   "source": [
    "#Predict on test data\n",
    "Y_pred=dtc_clf.predict(X_test)"
   ]
  },
  {
   "cell_type": "code",
   "execution_count": 72,
   "metadata": {},
   "outputs": [
    {
     "name": "stdout",
     "output_type": "stream",
     "text": [
      "Actual Deposit \n",
      "[0 1 1 ... 1 0 1]\n"
     ]
    }
   ],
   "source": [
    "print('Actual Deposit ')\n",
    "print(Y_test.values)"
   ]
  },
  {
   "cell_type": "code",
   "execution_count": 73,
   "metadata": {},
   "outputs": [
    {
     "name": "stdout",
     "output_type": "stream",
     "text": [
      "Predicted Deposit\n",
      "[0 1 1 ... 0 0 1]\n"
     ]
    }
   ],
   "source": [
    "print('Predicted Deposit')\n",
    "print(Y_pred)"
   ]
  },
  {
   "cell_type": "code",
   "execution_count": 74,
   "metadata": {},
   "outputs": [
    {
     "name": "stdout",
     "output_type": "stream",
     "text": [
      "\n",
      "Accuracy score: 75.807941\n",
      "Recall score : 74.571429\n",
      "ROC score : 75.771377\n",
      "\n",
      "[[859 257]\n",
      " [267 783]]\n"
     ]
    }
   ],
   "source": [
    "#Accuracy score on Test and Train\n",
    "from sklearn.metrics import accuracy_score, recall_score, roc_auc_score, confusion_matrix\n",
    "acc_dt=accuracy_score(Y_test,Y_pred) * 100\n",
    "print(\"\\nAccuracy score: %f\" %(accuracy_score(Y_test,Y_pred) * 100))\n",
    "print(\"Recall score : %f\" %(recall_score(Y_test, Y_pred) * 100))\n",
    "print(\"ROC score : %f\\n\" %(roc_auc_score(Y_test, Y_pred) * 100))\n",
    "print(confusion_matrix(Y_test, Y_pred)) "
   ]
  },
  {
   "cell_type": "code",
   "execution_count": 75,
   "metadata": {},
   "outputs": [
    {
     "data": {
      "text/plain": [
       "array([0.77000346, 0.74783512, 0.76342224])"
      ]
     },
     "execution_count": 75,
     "metadata": {},
     "output_type": "execute_result"
    }
   ],
   "source": [
    "dtc_clf_acc"
   ]
  },
  {
   "cell_type": "markdown",
   "metadata": {},
   "source": [
    "# Random Forest"
   ]
  },
  {
   "cell_type": "code",
   "execution_count": 76,
   "metadata": {},
   "outputs": [],
   "source": [
    "#Build Random Forest Calssifier\n",
    "from sklearn.ensemble import RandomForestClassifier\n",
    "rmf = RandomForestClassifier(max_depth=2, random_state=0)\n",
    "rmf_clf = rmf.fit(X_train, Y_train)"
   ]
  },
  {
   "cell_type": "code",
   "execution_count": 77,
   "metadata": {},
   "outputs": [
    {
     "data": {
      "text/plain": [
       "array([0.77416003, 0.75510911, 0.77034984])"
      ]
     },
     "execution_count": 77,
     "metadata": {},
     "output_type": "execute_result"
    }
   ],
   "source": [
    "#Print cross validation score for Random Forest Calssifier\n",
    "rmf_clf_acc = cross_val_score(rmf_clf, X_train_std, Y_train, cv=3, scoring=\"accuracy\",  n_jobs=-1)\n",
    "rmf_proba = cross_val_predict(rmf_clf, X_train_std, Y_train, cv=3, method='predict_proba')\n",
    "rmf_clf_scores = rmf_proba[:, 1]\n",
    "rmf_clf_acc"
   ]
  },
  {
   "cell_type": "code",
   "execution_count": 78,
   "metadata": {},
   "outputs": [],
   "source": [
    "#Predict on test data\n",
    "Y_pred=rmf.predict(X_test)"
   ]
  },
  {
   "cell_type": "code",
   "execution_count": 79,
   "metadata": {},
   "outputs": [
    {
     "name": "stdout",
     "output_type": "stream",
     "text": [
      "Actual Deposit \n",
      "[0 1 1 ... 1 0 1]\n"
     ]
    }
   ],
   "source": [
    "print('Actual Deposit ')\n",
    "print(Y_test.values)"
   ]
  },
  {
   "cell_type": "code",
   "execution_count": 80,
   "metadata": {},
   "outputs": [
    {
     "name": "stdout",
     "output_type": "stream",
     "text": [
      "Predicted Deposit\n",
      "[1 1 1 ... 0 0 1]\n"
     ]
    }
   ],
   "source": [
    "print('Predicted Deposit')\n",
    "print(Y_pred)"
   ]
  },
  {
   "cell_type": "code",
   "execution_count": 81,
   "metadata": {},
   "outputs": [
    {
     "name": "stdout",
     "output_type": "stream",
     "text": [
      "\n",
      "Accuracy score: 75.530933\n",
      "Recall score : 71.904762\n",
      "ROC score : 75.423707\n",
      "\n",
      "[[881 235]\n",
      " [295 755]]\n"
     ]
    }
   ],
   "source": [
    "#Accuracy score on Test and Train\n",
    "from sklearn.metrics import accuracy_score, recall_score, roc_auc_score, confusion_matrix\n",
    "acc_rmf=accuracy_score(Y_test,Y_pred) * 100\n",
    "print(\"\\nAccuracy score: %f\" %(accuracy_score(Y_test,Y_pred) * 100))\n",
    "print(\"Recall score : %f\" %(recall_score(Y_test, Y_pred) * 100))\n",
    "print(\"ROC score : %f\\n\" %(roc_auc_score(Y_test, Y_pred) * 100))\n",
    "print(confusion_matrix(Y_test, Y_pred)) "
   ]
  },
  {
   "cell_type": "code",
   "execution_count": 82,
   "metadata": {},
   "outputs": [
    {
     "data": {
      "text/plain": [
       "75.53093259464451"
      ]
     },
     "execution_count": 82,
     "metadata": {},
     "output_type": "execute_result"
    }
   ],
   "source": [
    "acc_rmf"
   ]
  },
  {
   "cell_type": "code",
   "execution_count": 83,
   "metadata": {},
   "outputs": [],
   "source": [
    "from sklearn.metrics import roc_auc_score,roc_curve\n",
    "def ROC_curve(title, Y_train, scores, label=None):\n",
    "    # calculate the ROC score\n",
    "    fpr, tpr, thresholds = roc_curve(Y_train, scores)\n",
    "    print('AUC Score ({}): {:.2f} '.format(title, roc_auc_score(Y_train, scores)))\n",
    "    \n",
    "    # plot the ROC curve\n",
    "    plt.figure(figsize=(8,6))\n",
    "    plt.plot(fpr, tpr, linewidth=2, label=label, color='b')\n",
    "    plt.xlabel('False Positive Rate', fontsize=16)\n",
    "    plt.ylabel('True Positive Rate', fontsize=16)\n",
    "    plt.title('ROC Curve: {}'.format(title), fontsize=16)\n",
    "    plt.show()"
   ]
  },
  {
   "cell_type": "markdown",
   "metadata": {},
   "source": [
    "# svm"
   ]
  },
  {
   "cell_type": "code",
   "execution_count": 84,
   "metadata": {},
   "outputs": [],
   "source": [
    "# Build Support Vector Classification\n",
    "from sklearn.svm import SVC\n",
    "svc = SVC(kernel='rbf',probability = True)\n",
    "svc_classifier = svc.fit(X_train,Y_train)"
   ]
  },
  {
   "cell_type": "code",
   "execution_count": 85,
   "metadata": {},
   "outputs": [],
   "source": [
    "#Print cross validation score for SVC\n",
    "svc_acc = cross_val_score(svc_classifier, X_train_std, Y_train, cv=3, scoring=\"accuracy\",  n_jobs=-1)\n",
    "svc_proba = cross_val_predict(svc_classifier, X_train_std, Y_train, cv=3, method='predict_proba')\n",
    "svc_scores = svc_proba[:, 1]"
   ]
  },
  {
   "cell_type": "code",
   "execution_count": 86,
   "metadata": {},
   "outputs": [
    {
     "data": {
      "text/plain": [
       "array([0.0548363 , 0.16861986, 0.5077952 , ..., 0.67267508, 0.69060104,\n",
       "       0.19377729])"
      ]
     },
     "execution_count": 86,
     "metadata": {},
     "output_type": "execute_result"
    }
   ],
   "source": [
    "svc_acc\n",
    "svc_scores"
   ]
  },
  {
   "cell_type": "code",
   "execution_count": 87,
   "metadata": {},
   "outputs": [],
   "source": [
    "#Predict on test data\n",
    "Y_pred=svc_classifier.predict(X_test)"
   ]
  },
  {
   "cell_type": "code",
   "execution_count": 88,
   "metadata": {},
   "outputs": [
    {
     "name": "stdout",
     "output_type": "stream",
     "text": [
      "Actual deposit\n",
      "[0 1 1 ... 1 0 1]\n"
     ]
    }
   ],
   "source": [
    "print('Actual deposit')\n",
    "print(Y_test.values)"
   ]
  },
  {
   "cell_type": "code",
   "execution_count": 89,
   "metadata": {},
   "outputs": [
    {
     "name": "stdout",
     "output_type": "stream",
     "text": [
      "Predicted deposit\n",
      "[1 1 0 ... 0 0 1]\n"
     ]
    }
   ],
   "source": [
    "print('Predicted deposit')\n",
    "print(Y_pred)"
   ]
  },
  {
   "cell_type": "code",
   "execution_count": 90,
   "metadata": {},
   "outputs": [
    {
     "name": "stdout",
     "output_type": "stream",
     "text": [
      "\n",
      "Accuracy score: 73.499538\n",
      "Recall score : 66.285714\n",
      "ROC score : 73.286226\n",
      "\n",
      "[[896 220]\n",
      " [354 696]]\n"
     ]
    }
   ],
   "source": [
    "#Accuracy score on Test and Train\n",
    "from sklearn.metrics import accuracy_score, recall_score, roc_auc_score, confusion_matrix\n",
    "acc_svm=accuracy_score(Y_test,Y_pred) * 100\n",
    "print(\"\\nAccuracy score: %f\" %(accuracy_score(Y_test,Y_pred) * 100))\n",
    "print(\"Recall score : %f\" %(recall_score(Y_test, Y_pred) * 100))\n",
    "print(\"ROC score : %f\\n\" %(roc_auc_score(Y_test, Y_pred) * 100))\n",
    "print(confusion_matrix(Y_test, Y_pred)) "
   ]
  },
  {
   "cell_type": "code",
   "execution_count": 91,
   "metadata": {},
   "outputs": [
    {
     "name": "stdout",
     "output_type": "stream",
     "text": [
      "AUC Score (kNN): 0.82 \n"
     ]
    },
    {
     "data": {
      "image/png": "[encoded data removed]",
      "text/plain": [
       "<Figure size 800x600 with 1 Axes>"
      ]
     },
     "metadata": {},
     "output_type": "display_data"
    },
    {
     "name": "stdout",
     "output_type": "stream",
     "text": [
      "AUC Score (Logistic Regression): 0.85 \n"
     ]
    },
    {
     "data": {
      "image/png": "[encoded data removed]",
      "text/plain": [
       "<Figure size 800x600 with 1 Axes>"
      ]
     },
     "metadata": {},
     "output_type": "display_data"
    },
    {
     "name": "stdout",
     "output_type": "stream",
     "text": [
      "AUC Score (Support Vector Classification): 0.88 \n"
     ]
    },
    {
     "data": {
      "image/png": "[encoded data removed]",
      "text/plain": [
       "<Figure size 800x600 with 1 Axes>"
      ]
     },
     "metadata": {},
     "output_type": "display_data"
    },
    {
     "name": "stdout",
     "output_type": "stream",
     "text": [
      "AUC Score (Decision Tree Classifier): 0.76 \n"
     ]
    },
    {
     "data": {
      "image/png": "[encoded data removed]",
      "text/plain": [
       "<Figure size 800x600 with 1 Axes>"
      ]
     },
     "metadata": {},
     "output_type": "display_data"
    },
    {
     "name": "stdout",
     "output_type": "stream",
     "text": [
      "AUC Score (Random Forest Classifier): 0.85 \n"
     ]
    },
    {
     "data": {
      "image/png": "[encoded data removed]",
      "text/plain": [
       "<Figure size 800x600 with 1 Axes>"
      ]
     },
     "metadata": {},
     "output_type": "display_data"
    }
   ],
   "source": [
    "#Plot ROC Curve for each algorithm\n",
    "ROC_curve('kNN', Y_train, clf_scores)\n",
    "ROC_curve('Logistic Regression', Y_train, lr_scores)\n",
    "ROC_curve('Support Vector Classification',Y_train,svc_scores)\n",
    "ROC_curve('Decision Tree Classifier',Y_train,dtc_clf_scores)\n",
    "ROC_curve('Random Forest Classifier',Y_train,rmf_clf_scores)"
   ]
  },
  {
   "cell_type": "code",
   "execution_count": 92,
   "metadata": {},
   "outputs": [
    {
     "data": {
      "text/plain": [
       "['logistic_regression_model.joblib']"
      ]
     },
     "execution_count": 92,
     "metadata": {},
     "output_type": "execute_result"
    }
   ],
   "source": [
    "\n",
    "import joblib\n",
    "\n",
    "# Save the trained Logistic Regression model\n",
    "joblib.dump(lr, 'logistic_regression_model.joblib')"
   ]
  },
  {
   "cell_type": "code",
   "execution_count": 93,
   "metadata": {},
   "outputs": [
    {
     "ename": "ModuleNotFoundError",
     "evalue": "No module named 'watson_machine_learning_client'",
     "output_type": "error",
     "traceback": [
      "\u001b[0;31m---------------------------------------------------------------------------\u001b[0m",
      "\u001b[0;31mModuleNotFoundError\u001b[0m                       Traceback (most recent call last)",
      "Cell \u001b[0;32mIn[93], line 1\u001b[0m\n\u001b[0;32m----> 1\u001b[0m \u001b[38;5;28;01mfrom\u001b[39;00m \u001b[38;5;21;01mwatson_machine_learning_client\u001b[39;00m \u001b[38;5;28;01mimport\u001b[39;00m WatsonMachineLearningAPIClient\n\u001b[1;32m      3\u001b[0m wml_credentials \u001b[38;5;241m=\u001b[39m {\n\u001b[1;32m      4\u001b[0m    \u001b[38;5;124m\"\u001b[39m\u001b[38;5;124minstance_id\u001b[39m\u001b[38;5;124m\"\u001b[39m: \u001b[38;5;124m\"\u001b[39m\u001b[38;5;124m3281aeea-4dc6-41cb-9f39-1f1d2b5761b8\u001b[39m\u001b[38;5;124m\"\u001b[39m,\n\u001b[1;32m      5\u001b[0m   \u001b[38;5;124m\"\u001b[39m\u001b[38;5;124mpassword\u001b[39m\u001b[38;5;124m\"\u001b[39m: \u001b[38;5;124m\"\u001b[39m\u001b[38;5;124m2492ccc8-7ed1-434d-af69-0a170fe6a4aa\u001b[39m\u001b[38;5;124m\"\u001b[39m,\n\u001b[1;32m      6\u001b[0m   \u001b[38;5;124m\"\u001b[39m\u001b[38;5;124murl\u001b[39m\u001b[38;5;124m\"\u001b[39m: \u001b[38;5;124m\"\u001b[39m\u001b[38;5;124mhttps://eu-gb.ml.cloud.ibm.com\u001b[39m\u001b[38;5;124m\"\u001b[39m,\n\u001b[1;32m      7\u001b[0m   \u001b[38;5;124m\"\u001b[39m\u001b[38;5;124musername\u001b[39m\u001b[38;5;124m\"\u001b[39m: \u001b[38;5;124m\"\u001b[39m\u001b[38;5;124m16752374-b3a2-4623-b3f1-a91af0ff5806\u001b[39m\u001b[38;5;124m\"\u001b[39m\n\u001b[1;32m      8\u001b[0m }\n\u001b[1;32m     10\u001b[0m client \u001b[38;5;241m=\u001b[39m WatsonMachineLearningAPIClient(wml_credentials)\n",
      "\u001b[0;31mModuleNotFoundError\u001b[0m: No module named 'watson_machine_learning_client'"
     ]
    }
   ],
   "source": [
    "from watson_machine_learning_client import WatsonMachineLearningAPIClient\n",
    "\n",
    "wml_credentials = {\n",
    "   \"instance_id\": \"3281aeea-4dc6-41cb-9f39-1f1d2b5761b8\",\n",
    "  \"password\": \"2492ccc8-7ed1-434d-af69-0a170fe6a4aa\",\n",
    "  \"url\": \"https://eu-gb.ml.cloud.ibm.com\",\n",
    "  \"username\": \"16752374-b3a2-4623-b3f1-a91af0ff5806\"\n",
    "}\n",
    "\n",
    "client = WatsonMachineLearningAPIClient(wml_credentials)\n",
    "model_props = {client.repository.ModelMetaNames.AUTHOR_NAME: \"Koklim\", \n",
    "               client.repository.ModelMetaNames.AUTHOR_EMAIL: \"oukoklim@gmail.com\", \n",
    "               client.repository.ModelMetaNames.NAME: \"Bank Model\"\n",
    "              }\n",
    "\n",
    "model=client.repository.store_model(lr, meta_props=model_props)\n",
    "\n",
    "published_model_uid = client.repository.get_model_uid(model)\n",
    "published_model_uid\n",
    "\n",
    "deployment = client.deployments.create(published_model_uid, name=\"Retail Banking\")\n",
    "\n",
    "scoring_endpoint = client.deployments.get_scoring_url(deployment)\n",
    "scoring_endpoint"
   ]
  },
  {
   "cell_type": "code",
   "execution_count": null,
   "metadata": {},
   "outputs": [],
   "source": [
    "client.deployments.list()"
   ]
  },
  {
   "cell_type": "code",
   "execution_count": null,
   "metadata": {},
   "outputs": [],
   "source": [
    "client.deployments.delete(\"\")"
   ]
  }
 ],
 "metadata": {
  "kernelspec": {
   "display_name": "Python 3 (ipykernel)",
   "language": "python",
   "name": "python3"
  },
  "language_info": {
   "codemirror_mode": {
    "name": "ipython",
    "version": 3
   },
   "file_extension": ".py",
   "mimetype": "text/x-python",
   "name": "python",
   "nbconvert_exporter": "python",
   "pygments_lexer": "ipython3",
   "version": "3.11.5"
  }
 },
 "nbformat": 4,
 "nbformat_minor": 2
}
